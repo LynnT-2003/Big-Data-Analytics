{
  "cells": [
    {
      "cell_type": "markdown",
      "source": [
        "# Initialization"
      ],
      "metadata": {},
      "id": "8a8bfe32-2088-40ed-ab82-f7c4dd86bf47"
    },
    {
      "cell_type": "code",
      "source": [
        "from pyspark.sql import SparkSession\n",
        "from pyspark.ml.feature import VectorAssembler\n",
        "from pyspark.ml.regression import LinearRegression\n",
        "from pyspark.ml.evaluation import RegressionEvaluator\n",
        "\n",
        "# Initialize Spark session\n",
        "spark = SparkSession.builder.appName(\"COVID-19 US Aggregated\").getOrCreate()"
      ],
      "outputs": [
        {
          "output_type": "stream",
          "name": "stderr",
          "text": "23/09/12 12:38:13 WARN SparkSession: Using an existing Spark session; only runtime SQL configurations will take effect.\n"
        }
      ],
      "execution_count": 1,
      "metadata": {},
      "id": "625baf05-57bf-4de2-9f58-3031998fc720"
    },
    {
      "cell_type": "code",
      "source": [
        "sc"
      ],
      "outputs": [
        {
          "output_type": "execute_result",
          "execution_count": 2,
          "data": {
            "text/html": "\n        <div>\n            <p><b>SparkContext</b></p>\n\n            <p><a href=\"http://cluster-251b-m.us-central1-a.c.lynn-bda.internal:37709\">Spark UI</a></p>\n\n            <dl>\n              <dt>Version</dt>\n                <dd><code>v3.3.2</code></dd>\n              <dt>Master</dt>\n                <dd><code>yarn</code></dd>\n              <dt>AppName</dt>\n                <dd><code>PySparkShell</code></dd>\n            </dl>\n        </div>\n        ",
            "text/plain": "<SparkContext master=yarn appName=PySparkShell>"
          },
          "metadata": {}
        }
      ],
      "execution_count": 2,
      "metadata": {},
      "id": "8deb2c81-7b30-4422-8cac-d2394bda39d2"
    },
    {
      "cell_type": "code",
      "source": [
        "# Load COVID-19 data from Cloud Storage\n",
        "covid_data = spark.read.csv(\"gs://lynn_covid19_bucket1/covid19_open_romania\", header=True, inferSchema=True)"
      ],
      "outputs": [
        {
          "output_type": "stream",
          "name": "stderr",
          "text": "                                                                                \r"
        }
      ],
      "execution_count": 3,
      "metadata": {},
      "id": "31c3ed10-d8e9-4b22-9611-6d5d41860ff4"
    },
    {
      "cell_type": "markdown",
      "source": [
        "# EDA"
      ],
      "metadata": {},
      "id": "a89c59f7-5bbf-4726-8d09-b11405085e90"
    },
    {
      "cell_type": "markdown",
      "source": [
        "### number of records"
      ],
      "metadata": {},
      "id": "f51513d9-b1a8-43f7-98b4-416dbe274ad9"
    },
    {
      "cell_type": "code",
      "source": [
        "covid_data.count()"
      ],
      "outputs": [
        {
          "output_type": "stream",
          "name": "stderr",
          "text": "                                                                                \r"
        },
        {
          "output_type": "execute_result",
          "execution_count": 4,
          "data": {
            "text/plain": "42613"
          },
          "metadata": {}
        }
      ],
      "execution_count": 4,
      "metadata": {},
      "id": "6b9f7c9b-9245-447e-81f2-03a1d4e63c3a"
    },
    {
      "cell_type": "markdown",
      "source": [
        "### schema"
      ],
      "metadata": {},
      "id": "2ac71b87-a5b4-4516-8d8a-062b3bbd3898"
    },
    {
      "cell_type": "code",
      "source": [
        "covid_data.printSchema()"
      ],
      "outputs": [
        {
          "output_type": "stream",
          "name": "stdout",
          "text": "root\n |-- location_key: string (nullable = true)\n |-- date: timestamp (nullable = true)\n |-- place_id: string (nullable = true)\n |-- wikidata_id: string (nullable = true)\n |-- datacommons_id: string (nullable = true)\n |-- country_code: string (nullable = true)\n |-- country_name: string (nullable = true)\n |-- iso_3166_1_alpha_2: string (nullable = true)\n |-- iso_3166_1_alpha_3: string (nullable = true)\n |-- aggregation_level: integer (nullable = true)\n |-- new_confirmed: integer (nullable = true)\n |-- new_deceased: integer (nullable = true)\n |-- cumulative_confirmed: integer (nullable = true)\n |-- cumulative_deceased: integer (nullable = true)\n |-- cumulative_tested: integer (nullable = true)\n |-- new_persons_vaccinated: integer (nullable = true)\n |-- cumulative_persons_vaccinated: integer (nullable = true)\n |-- new_persons_fully_vaccinated: integer (nullable = true)\n |-- cumulative_persons_fully_vaccinated: integer (nullable = true)\n |-- new_vaccine_doses_administered: integer (nullable = true)\n |-- cumulative_vaccine_doses_administered: integer (nullable = true)\n |-- population: integer (nullable = true)\n |-- population_male: integer (nullable = true)\n |-- population_female: integer (nullable = true)\n |-- population_rural: integer (nullable = true)\n |-- population_urban: integer (nullable = true)\n |-- population_density: double (nullable = true)\n |-- human_development_index: double (nullable = true)\n |-- population_age_00_09: integer (nullable = true)\n |-- population_age_10_19: integer (nullable = true)\n |-- population_age_20_29: integer (nullable = true)\n |-- population_age_30_39: integer (nullable = true)\n |-- population_age_40_49: integer (nullable = true)\n |-- population_age_50_59: integer (nullable = true)\n |-- population_age_60_69: integer (nullable = true)\n |-- population_age_70_79: integer (nullable = true)\n |-- population_age_80_and_older: integer (nullable = true)\n |-- gdp_usd: long (nullable = true)\n |-- gdp_per_capita_usd: integer (nullable = true)\n |-- openstreetmap_id: integer (nullable = true)\n |-- latitude: double (nullable = true)\n |-- longitude: double (nullable = true)\n |-- area_sq_km: integer (nullable = true)\n |-- smoking_prevalence: double (nullable = true)\n |-- diabetes_prevalence: double (nullable = true)\n |-- infant_mortality_rate: double (nullable = true)\n |-- nurses_per_1000: double (nullable = true)\n |-- physicians_per_1000: double (nullable = true)\n |-- health_expenditure_usd: double (nullable = true)\n |-- out_of_pocket_health_expenditure_usd: double (nullable = true)\n |-- school_closing: integer (nullable = true)\n |-- workplace_closing: integer (nullable = true)\n |-- cancel_public_events: integer (nullable = true)\n |-- restrictions_on_gatherings: integer (nullable = true)\n |-- public_transport_closing: integer (nullable = true)\n |-- stay_at_home_requirements: integer (nullable = true)\n |-- restrictions_on_internal_movement: integer (nullable = true)\n |-- international_travel_controls: integer (nullable = true)\n |-- income_support: integer (nullable = true)\n |-- debt_relief: integer (nullable = true)\n |-- fiscal_measures: long (nullable = true)\n |-- international_support: integer (nullable = true)\n |-- public_information_campaigns: integer (nullable = true)\n |-- testing_policy: integer (nullable = true)\n |-- contact_tracing: integer (nullable = true)\n |-- emergency_investment_in_healthcare: integer (nullable = true)\n |-- investment_in_vaccines: integer (nullable = true)\n |-- facial_coverings: integer (nullable = true)\n |-- vaccination_policy: integer (nullable = true)\n |-- stringency_index: double (nullable = true)\n |-- average_temperature_celsius: double (nullable = true)\n |-- minimum_temperature_celsius: double (nullable = true)\n |-- maximum_temperature_celsius: double (nullable = true)\n |-- rainfall_mm: double (nullable = true)\n |-- snowfall_mm: double (nullable = true)\n |-- dew_point: double (nullable = true)\n |-- relative_humidity: double (nullable = true)\n |-- new_tested: string (nullable = true)\n |-- population_largest_city: integer (nullable = true)\n |-- population_clustered: integer (nullable = true)\n |-- human_capital_index: double (nullable = true)\n |-- area_rural_sq_km: integer (nullable = true)\n |-- area_urban_sq_km: integer (nullable = true)\n |-- life_expectancy: double (nullable = true)\n |-- adult_male_mortality_rate: double (nullable = true)\n |-- adult_female_mortality_rate: double (nullable = true)\n |-- pollution_mortality_rate: double (nullable = true)\n |-- comorbidity_mortality_rate: double (nullable = true)\n |-- mobility_retail_and_recreation: integer (nullable = true)\n |-- mobility_grocery_and_pharmacy: integer (nullable = true)\n |-- mobility_parks: integer (nullable = true)\n |-- mobility_transit_stations: integer (nullable = true)\n |-- mobility_workplaces: integer (nullable = true)\n |-- mobility_residential: integer (nullable = true)\n |-- hospital_beds_per_1000: string (nullable = true)\n |-- subregion1_code: string (nullable = true)\n |-- subregion1_name: string (nullable = true)\n |-- new_recovered: integer (nullable = true)\n |-- cumulative_recovered: integer (nullable = true)\n |-- elevation_m: integer (nullable = true)\n |-- new_hospitalized_patients: string (nullable = true)\n |-- cumulative_hospitalized_patients: string (nullable = true)\n |-- new_intensive_care_patients: string (nullable = true)\n |-- cumulative_intensive_care_patients: string (nullable = true)\n |-- new_confirmed_age_0: integer (nullable = true)\n |-- new_confirmed_age_1: integer (nullable = true)\n |-- new_confirmed_age_2: integer (nullable = true)\n |-- new_confirmed_age_3: integer (nullable = true)\n |-- new_confirmed_age_4: integer (nullable = true)\n |-- new_confirmed_age_5: integer (nullable = true)\n |-- new_confirmed_age_6: integer (nullable = true)\n |-- new_confirmed_age_7: integer (nullable = true)\n |-- new_confirmed_age_8: integer (nullable = true)\n |-- new_confirmed_age_9: string (nullable = true)\n |-- cumulative_confirmed_age_0: integer (nullable = true)\n |-- cumulative_confirmed_age_1: integer (nullable = true)\n |-- cumulative_confirmed_age_2: integer (nullable = true)\n |-- cumulative_confirmed_age_3: integer (nullable = true)\n |-- cumulative_confirmed_age_4: integer (nullable = true)\n |-- cumulative_confirmed_age_5: integer (nullable = true)\n |-- cumulative_confirmed_age_6: integer (nullable = true)\n |-- cumulative_confirmed_age_7: integer (nullable = true)\n |-- cumulative_confirmed_age_8: integer (nullable = true)\n |-- cumulative_confirmed_age_9: string (nullable = true)\n |-- new_deceased_age_0: string (nullable = true)\n |-- new_deceased_age_1: string (nullable = true)\n |-- new_deceased_age_2: string (nullable = true)\n |-- new_deceased_age_3: string (nullable = true)\n |-- new_deceased_age_4: string (nullable = true)\n |-- new_deceased_age_5: string (nullable = true)\n |-- new_deceased_age_6: string (nullable = true)\n |-- new_deceased_age_7: string (nullable = true)\n |-- new_deceased_age_8: string (nullable = true)\n |-- new_deceased_age_9: string (nullable = true)\n |-- cumulative_deceased_age_0: string (nullable = true)\n |-- cumulative_deceased_age_1: string (nullable = true)\n |-- cumulative_deceased_age_2: string (nullable = true)\n |-- cumulative_deceased_age_3: string (nullable = true)\n |-- cumulative_deceased_age_4: string (nullable = true)\n |-- cumulative_deceased_age_5: string (nullable = true)\n |-- cumulative_deceased_age_6: string (nullable = true)\n |-- cumulative_deceased_age_7: string (nullable = true)\n |-- cumulative_deceased_age_8: string (nullable = true)\n |-- cumulative_deceased_age_9: string (nullable = true)\n |-- new_tested_age_0: string (nullable = true)\n |-- new_tested_age_1: string (nullable = true)\n |-- new_tested_age_2: string (nullable = true)\n |-- new_tested_age_3: string (nullable = true)\n |-- new_tested_age_4: string (nullable = true)\n |-- new_tested_age_5: string (nullable = true)\n |-- new_tested_age_6: string (nullable = true)\n |-- new_tested_age_7: string (nullable = true)\n |-- new_tested_age_8: string (nullable = true)\n |-- new_tested_age_9: string (nullable = true)\n |-- cumulative_tested_age_0: string (nullable = true)\n |-- cumulative_tested_age_1: string (nullable = true)\n |-- cumulative_tested_age_2: string (nullable = true)\n |-- cumulative_tested_age_3: string (nullable = true)\n |-- cumulative_tested_age_4: string (nullable = true)\n |-- cumulative_tested_age_5: string (nullable = true)\n |-- cumulative_tested_age_6: string (nullable = true)\n |-- cumulative_tested_age_7: string (nullable = true)\n |-- cumulative_tested_age_8: string (nullable = true)\n |-- cumulative_tested_age_9: string (nullable = true)\n |-- new_hospitalized_patients_age_0: string (nullable = true)\n |-- new_hospitalized_patients_age_1: string (nullable = true)\n |-- new_hospitalized_patients_age_2: string (nullable = true)\n |-- new_hospitalized_patients_age_3: string (nullable = true)\n |-- new_hospitalized_patients_age_4: string (nullable = true)\n |-- new_hospitalized_patients_age_5: string (nullable = true)\n |-- new_hospitalized_patients_age_6: string (nullable = true)\n |-- new_hospitalized_patients_age_7: string (nullable = true)\n |-- new_hospitalized_patients_age_8: string (nullable = true)\n |-- new_hospitalized_patients_age_9: string (nullable = true)\n |-- cumulative_hospitalized_patients_age_0: string (nullable = true)\n |-- cumulative_hospitalized_patients_age_1: string (nullable = true)\n |-- cumulative_hospitalized_patients_age_2: string (nullable = true)\n |-- cumulative_hospitalized_patients_age_3: string (nullable = true)\n |-- cumulative_hospitalized_patients_age_4: string (nullable = true)\n |-- cumulative_hospitalized_patients_age_5: string (nullable = true)\n |-- cumulative_hospitalized_patients_age_6: string (nullable = true)\n |-- cumulative_hospitalized_patients_age_7: string (nullable = true)\n |-- cumulative_hospitalized_patients_age_8: string (nullable = true)\n |-- cumulative_hospitalized_patients_age_9: string (nullable = true)\n |-- new_intensive_care_patients_age_0: string (nullable = true)\n |-- new_intensive_care_patients_age_1: string (nullable = true)\n |-- new_intensive_care_patients_age_2: string (nullable = true)\n |-- new_intensive_care_patients_age_3: string (nullable = true)\n |-- new_intensive_care_patients_age_4: string (nullable = true)\n |-- new_intensive_care_patients_age_5: string (nullable = true)\n |-- new_intensive_care_patients_age_6: string (nullable = true)\n |-- new_intensive_care_patients_age_7: string (nullable = true)\n |-- new_intensive_care_patients_age_8: string (nullable = true)\n |-- new_intensive_care_patients_age_9: string (nullable = true)\n |-- cumulative_intensive_care_patients_age_0: string (nullable = true)\n |-- cumulative_intensive_care_patients_age_1: string (nullable = true)\n |-- cumulative_intensive_care_patients_age_2: string (nullable = true)\n |-- cumulative_intensive_care_patients_age_3: string (nullable = true)\n |-- cumulative_intensive_care_patients_age_4: string (nullable = true)\n |-- cumulative_intensive_care_patients_age_5: string (nullable = true)\n |-- cumulative_intensive_care_patients_age_6: string (nullable = true)\n |-- cumulative_intensive_care_patients_age_7: string (nullable = true)\n |-- cumulative_intensive_care_patients_age_8: string (nullable = true)\n |-- cumulative_intensive_care_patients_age_9: string (nullable = true)\n |-- age_bin_0: string (nullable = true)\n |-- age_bin_1: string (nullable = true)\n |-- age_bin_2: string (nullable = true)\n |-- age_bin_3: string (nullable = true)\n |-- age_bin_4: string (nullable = true)\n |-- age_bin_5: string (nullable = true)\n |-- age_bin_6: string (nullable = true)\n |-- age_bin_7: string (nullable = true)\n |-- age_bin_8: string (nullable = true)\n |-- age_bin_9: string (nullable = true)\n |-- new_confirmed_male: string (nullable = true)\n |-- new_confirmed_female: string (nullable = true)\n |-- cumulative_confirmed_male: string (nullable = true)\n |-- cumulative_confirmed_female: string (nullable = true)\n |-- new_deceased_male: string (nullable = true)\n |-- new_deceased_female: string (nullable = true)\n |-- cumulative_deceased_male: string (nullable = true)\n |-- cumulative_deceased_female: string (nullable = true)\n |-- new_tested_male: string (nullable = true)\n |-- new_tested_female: string (nullable = true)\n |-- cumulative_tested_male: string (nullable = true)\n |-- cumulative_tested_female: string (nullable = true)\n |-- new_hospitalized_patients_male: string (nullable = true)\n |-- new_hospitalized_patients_female: string (nullable = true)\n |-- cumulative_hospitalized_patients_male: string (nullable = true)\n |-- cumulative_hospitalized_patients_female: string (nullable = true)\n |-- new_intensive_care_patients_male: string (nullable = true)\n |-- new_intensive_care_patients_female: string (nullable = true)\n |-- cumulative_intensive_care_patients_male: string (nullable = true)\n |-- cumulative_intensive_care_patients_female: string (nullable = true)\n |-- subregion2_code: string (nullable = true)\n |-- subregion2_name: string (nullable = true)\n |-- current_hospitalized_patients: string (nullable = true)\n |-- current_intensive_care_patients: integer (nullable = true)\n |-- current_ventilator_patients: string (nullable = true)\n |-- search_trends_abdominal_obesity: string (nullable = true)\n |-- search_trends_abdominal_pain: string (nullable = true)\n |-- search_trends_acne: string (nullable = true)\n |-- search_trends_actinic_keratosis: string (nullable = true)\n |-- search_trends_acute_bronchitis: string (nullable = true)\n |-- search_trends_adrenal_crisis: string (nullable = true)\n |-- search_trends_ageusia: string (nullable = true)\n |-- search_trends_alcoholism: string (nullable = true)\n |-- search_trends_allergic_conjunctivitis: string (nullable = true)\n |-- search_trends_allergy: string (nullable = true)\n |-- search_trends_amblyopia: string (nullable = true)\n |-- search_trends_amenorrhea: string (nullable = true)\n |-- search_trends_amnesia: string (nullable = true)\n |-- search_trends_anal_fissure: string (nullable = true)\n |-- search_trends_anaphylaxis: string (nullable = true)\n |-- search_trends_anemia: string (nullable = true)\n |-- search_trends_angina_pectoris: string (nullable = true)\n |-- search_trends_angioedema: string (nullable = true)\n |-- search_trends_angular_cheilitis: string (nullable = true)\n |-- search_trends_anosmia: string (nullable = true)\n |-- search_trends_anxiety: string (nullable = true)\n |-- search_trends_aphasia: string (nullable = true)\n |-- search_trends_aphonia: string (nullable = true)\n |-- search_trends_apnea: string (nullable = true)\n |-- search_trends_arthralgia: string (nullable = true)\n |-- search_trends_arthritis: string (nullable = true)\n |-- search_trends_ascites: string (nullable = true)\n |-- search_trends_asperger_syndrome: string (nullable = true)\n |-- search_trends_asphyxia: string (nullable = true)\n |-- search_trends_asthma: string (nullable = true)\n |-- search_trends_astigmatism: string (nullable = true)\n |-- search_trends_ataxia: string (nullable = true)\n |-- search_trends_atheroma: string (nullable = true)\n |-- search_trends_attention_deficit_hyperactivity_disorder: string (nullable = true)\n |-- search_trends_auditory_hallucination: string (nullable = true)\n |-- search_trends_autoimmune_disease: string (nullable = true)\n |-- search_trends_avoidant_personality_disorder: string (nullable = true)\n |-- search_trends_back_pain: string (nullable = true)\n |-- search_trends_bacterial_vaginosis: string (nullable = true)\n |-- search_trends_balance_disorder: string (nullable = true)\n |-- search_trends_beaus_lines: string (nullable = true)\n |-- search_trends_bells_palsy: string (nullable = true)\n |-- search_trends_biliary_colic: string (nullable = true)\n |-- search_trends_binge_eating: string (nullable = true)\n |-- search_trends_bleeding: string (nullable = true)\n |-- search_trends_bleeding_on_probing: string (nullable = true)\n |-- search_trends_blepharospasm: string (nullable = true)\n |-- search_trends_bloating: string (nullable = true)\n |-- search_trends_blood_in_stool: string (nullable = true)\n |-- search_trends_blurred_vision: string (nullable = true)\n |-- search_trends_blushing: string (nullable = true)\n |-- search_trends_boil: string (nullable = true)\n |-- search_trends_bone_fracture: string (nullable = true)\n |-- search_trends_bone_tumor: string (nullable = true)\n |-- search_trends_bowel_obstruction: string (nullable = true)\n |-- search_trends_bradycardia: string (nullable = true)\n |-- search_trends_braxton_hicks_contractions: string (nullable = true)\n |-- search_trends_breakthrough_bleeding: string (nullable = true)\n |-- search_trends_breast_pain: string (nullable = true)\n |-- search_trends_bronchitis: string (nullable = true)\n |-- search_trends_bruise: string (nullable = true)\n |-- search_trends_bruxism: string (nullable = true)\n |-- search_trends_bunion: string (nullable = true)\n |-- search_trends_burn: string (nullable = true)\n |-- search_trends_burning_chest_pain: string (nullable = true)\n |-- search_trends_burning_mouth_syndrome: string (nullable = true)\n |-- search_trends_candidiasis: string (nullable = true)\n |-- search_trends_canker_sore: string (nullable = true)\n |-- search_trends_cardiac_arrest: string (nullable = true)\n |-- search_trends_carpal_tunnel_syndrome: string (nullable = true)\n |-- search_trends_cataplexy: string (nullable = true)\n |-- search_trends_cataract: string (nullable = true)\n |-- search_trends_chancre: string (nullable = true)\n |-- search_trends_cheilitis: string (nullable = true)\n |-- search_trends_chest_pain: string (nullable = true)\n |-- search_trends_chills: string (nullable = true)\n |-- search_trends_chorea: string (nullable = true)\n |-- search_trends_chronic_pain: string (nullable = true)\n |-- search_trends_cirrhosis: string (nullable = true)\n |-- search_trends_cleft_lip_and_cleft_palate: string (nullable = true)\n |-- search_trends_clouding_of_consciousness: string (nullable = true)\n |-- search_trends_cluster_headache: string (nullable = true)\n |-- search_trends_colitis: string (nullable = true)\n |-- search_trends_coma: string (nullable = true)\n |-- search_trends_common_cold: string (nullable = true)\n |-- search_trends_compulsive_behavior: string (nullable = true)\n |-- search_trends_compulsive_hoarding: string (nullable = true)\n |-- search_trends_confusion: string (nullable = true)\n |-- search_trends_congenital_heart_defect: string (nullable = true)\n |-- search_trends_conjunctivitis: string (nullable = true)\n |-- search_trends_constipation: string (nullable = true)\n |-- search_trends_convulsion: string (nullable = true)\n |-- search_trends_cough: string (nullable = true)\n |-- search_trends_crackles: string (nullable = true)\n |-- search_trends_cramp: string (nullable = true)\n |-- search_trends_crepitus: string (nullable = true)\n |-- search_trends_croup: string (nullable = true)\n |-- search_trends_cyanosis: string (nullable = true)\n |-- search_trends_dandruff: string (nullable = true)\n |-- search_trends_delayed_onset_muscle_soreness: string (nullable = true)\n |-- search_trends_dementia: string (nullable = true)\n |-- search_trends_dentin_hypersensitivity: string (nullable = true)\n |-- search_trends_depersonalization: string (nullable = true)\n |-- search_trends_depression: string (nullable = true)\n |-- search_trends_dermatitis: string (nullable = true)\n |-- search_trends_desquamation: string (nullable = true)\n |-- search_trends_developmental_disability: string (nullable = true)\n |-- search_trends_diabetes: string (nullable = true)\n |-- search_trends_diabetic_ketoacidosis: string (nullable = true)\n |-- search_trends_diarrhea: string (nullable = true)\n |-- search_trends_dizziness: string (nullable = true)\n |-- search_trends_dry_eye_syndrome: string (nullable = true)\n |-- search_trends_dysautonomia: string (nullable = true)\n |-- search_trends_dysgeusia: string (nullable = true)\n |-- search_trends_dysmenorrhea: string (nullable = true)\n |-- search_trends_dyspareunia: string (nullable = true)\n |-- search_trends_dysphagia: string (nullable = true)\n |-- search_trends_dysphoria: string (nullable = true)\n |-- search_trends_dystonia: string (nullable = true)\n |-- search_trends_dysuria: string (nullable = true)\n |-- search_trends_ear_pain: string (nullable = true)\n |-- search_trends_eczema: string (nullable = true)\n |-- search_trends_edema: string (nullable = true)\n |-- search_trends_encephalitis: string (nullable = true)\n |-- search_trends_encephalopathy: string (nullable = true)\n |-- search_trends_epidermoid_cyst: string (nullable = true)\n |-- search_trends_epilepsy: string (nullable = true)\n |-- search_trends_epiphora: string (nullable = true)\n |-- search_trends_erectile_dysfunction: string (nullable = true)\n |-- search_trends_erythema: string (nullable = true)\n |-- search_trends_erythema_chronicum_migrans: string (nullable = true)\n |-- search_trends_esophagitis: string (nullable = true)\n |-- search_trends_excessive_daytime_sleepiness: string (nullable = true)\n |-- search_trends_eye_pain: string (nullable = true)\n |-- search_trends_eye_strain: string (nullable = true)\n |-- search_trends_facial_nerve_paralysis: string (nullable = true)\n |-- search_trends_facial_swelling: string (nullable = true)\n |-- search_trends_fasciculation: string (nullable = true)\n |-- search_trends_fatigue: string (nullable = true)\n |-- search_trends_fatty_liver_disease: string (nullable = true)\n |-- search_trends_fecal_incontinence: string (nullable = true)\n |-- search_trends_fever: string (nullable = true)\n |-- search_trends_fibrillation: string (nullable = true)\n |-- search_trends_fibrocystic_breast_changes: string (nullable = true)\n |-- search_trends_fibromyalgia: string (nullable = true)\n |-- search_trends_flatulence: string (nullable = true)\n |-- search_trends_floater: string (nullable = true)\n |-- search_trends_focal_seizure: string (nullable = true)\n |-- search_trends_folate_deficiency: string (nullable = true)\n |-- search_trends_food_craving: string (nullable = true)\n |-- search_trends_food_intolerance: string (nullable = true)\n |-- search_trends_frequent_urination: string (nullable = true)\n |-- search_trends_gastroesophageal_reflux_disease: string (nullable = true)\n |-- search_trends_gastroparesis: string (nullable = true)\n |-- search_trends_generalized_anxiety_disorder: string (nullable = true)\n |-- search_trends_genital_wart: string (nullable = true)\n |-- search_trends_gingival_recession: string (nullable = true)\n |-- search_trends_gingivitis: string (nullable = true)\n |-- search_trends_globus_pharyngis: string (nullable = true)\n |-- search_trends_goitre: string (nullable = true)\n |-- search_trends_gout: string (nullable = true)\n |-- search_trends_grandiosity: string (nullable = true)\n |-- search_trends_granuloma: string (nullable = true)\n |-- search_trends_guilt: string (nullable = true)\n |-- search_trends_hair_loss: string (nullable = true)\n |-- search_trends_halitosis: string (nullable = true)\n |-- search_trends_hay_fever: string (nullable = true)\n |-- search_trends_headache: string (nullable = true)\n |-- search_trends_heart_arrhythmia: string (nullable = true)\n |-- search_trends_heart_murmur: string (nullable = true)\n |-- search_trends_heartburn: string (nullable = true)\n |-- search_trends_hematochezia: string (nullable = true)\n |-- search_trends_hematoma: string (nullable = true)\n |-- search_trends_hematuria: string (nullable = true)\n |-- search_trends_hemolysis: string (nullable = true)\n |-- search_trends_hemoptysis: string (nullable = true)\n |-- search_trends_hemorrhoids: string (nullable = true)\n |-- search_trends_hepatic_encephalopathy: string (nullable = true)\n |-- search_trends_hepatitis: string (nullable = true)\n |-- search_trends_hepatotoxicity: string (nullable = true)\n |-- search_trends_hiccup: string (nullable = true)\n |-- search_trends_hip_pain: string (nullable = true)\n |-- search_trends_hives: string (nullable = true)\n |-- search_trends_hot_flash: string (nullable = true)\n |-- search_trends_hydrocephalus: string (nullable = true)\n |-- search_trends_hypercalcaemia: string (nullable = true)\n |-- search_trends_hypercapnia: string (nullable = true)\n |-- search_trends_hypercholesterolemia: string (nullable = true)\n |-- search_trends_hyperemesis_gravidarum: string (nullable = true)\n |-- search_trends_hyperglycemia: string (nullable = true)\n |-- search_trends_hyperhidrosis: string (nullable = true)\n |-- search_trends_hyperkalemia: string (nullable = true)\n |-- search_trends_hyperlipidemia: string (nullable = true)\n |-- search_trends_hypermobility: string (nullable = true)\n |-- search_trends_hyperpigmentation: string (nullable = true)\n |-- search_trends_hypersomnia: string (nullable = true)\n |-- search_trends_hypertension: string (nullable = true)\n |-- search_trends_hyperthermia: string (nullable = true)\n |-- search_trends_hyperthyroidism: string (nullable = true)\n |-- search_trends_hypertriglyceridemia: string (nullable = true)\n |-- search_trends_hypertrophy: string (nullable = true)\n |-- search_trends_hyperventilation: string (nullable = true)\n |-- search_trends_hypocalcaemia: string (nullable = true)\n |-- search_trends_hypochondriasis: string (nullable = true)\n |-- search_trends_hypoglycemia: string (nullable = true)\n |-- search_trends_hypogonadism: string (nullable = true)\n |-- search_trends_hypokalemia: string (nullable = true)\n |-- search_trends_hypomania: string (nullable = true)\n |-- search_trends_hyponatremia: string (nullable = true)\n |-- search_trends_hypotension: string (nullable = true)\n |-- search_trends_hypothyroidism: string (nullable = true)\n |-- search_trends_hypoxemia: string (nullable = true)\n |-- search_trends_hypoxia: string (nullable = true)\n |-- search_trends_impetigo: string (nullable = true)\n |-- search_trends_implantation_bleeding: string (nullable = true)\n |-- search_trends_impulsivity: string (nullable = true)\n |-- search_trends_indigestion: string (nullable = true)\n |-- search_trends_infection: string (nullable = true)\n |-- search_trends_inflammation: string (nullable = true)\n |-- search_trends_inflammatory_bowel_disease: string (nullable = true)\n |-- search_trends_ingrown_hair: string (nullable = true)\n |-- search_trends_insomnia: string (nullable = true)\n |-- search_trends_insulin_resistance: string (nullable = true)\n |-- search_trends_intermenstrual_bleeding: string (nullable = true)\n |-- search_trends_intracranial_pressure: string (nullable = true)\n |-- search_trends_iron_deficiency: string (nullable = true)\n |-- search_trends_irregular_menstruation: string (nullable = true)\n |-- search_trends_itch: string (nullable = true)\n |-- search_trends_jaundice: string (nullable = true)\n |-- search_trends_kidney_failure: string (nullable = true)\n |-- search_trends_kidney_stone: string (nullable = true)\n |-- search_trends_knee_pain: string (nullable = true)\n |-- search_trends_kyphosis: string (nullable = true)\n |-- search_trends_lactose_intolerance: string (nullable = true)\n |-- search_trends_laryngitis: string (nullable = true)\n |-- search_trends_leg_cramps: string (nullable = true)\n |-- search_trends_lesion: string (nullable = true)\n |-- search_trends_leukorrhea: string (nullable = true)\n |-- search_trends_lightheadedness: string (nullable = true)\n |-- search_trends_low_back_pain: string (nullable = true)\n |-- search_trends_low_grade_fever: string (nullable = true)\n |-- search_trends_lymphedema: string (nullable = true)\n |-- search_trends_major_depressive_disorder: string (nullable = true)\n |-- search_trends_malabsorption: string (nullable = true)\n |-- search_trends_male_infertility: string (nullable = true)\n |-- search_trends_manic_disorder: string (nullable = true)\n |-- search_trends_melasma: string (nullable = true)\n |-- search_trends_melena: string (nullable = true)\n |-- search_trends_meningitis: string (nullable = true)\n |-- search_trends_menorrhagia: string (nullable = true)\n |-- search_trends_middle_back_pain: string (nullable = true)\n |-- search_trends_migraine: string (nullable = true)\n |-- search_trends_milium: string (nullable = true)\n |-- search_trends_mitral_insufficiency: string (nullable = true)\n |-- search_trends_mood_disorder: string (nullable = true)\n |-- search_trends_mood_swing: string (nullable = true)\n |-- search_trends_morning_sickness: string (nullable = true)\n |-- search_trends_motion_sickness: string (nullable = true)\n |-- search_trends_mouth_ulcer: string (nullable = true)\n |-- search_trends_muscle_atrophy: string (nullable = true)\n |-- search_trends_muscle_weakness: string (nullable = true)\n |-- search_trends_myalgia: string (nullable = true)\n |-- search_trends_mydriasis: string (nullable = true)\n |-- search_trends_myocardial_infarction: string (nullable = true)\n |-- search_trends_myoclonus: string (nullable = true)\n |-- search_trends_nasal_congestion: string (nullable = true)\n |-- search_trends_nasal_polyp: string (nullable = true)\n |-- search_trends_nausea: string (nullable = true)\n |-- search_trends_neck_mass: string (nullable = true)\n |-- search_trends_neck_pain: string (nullable = true)\n |-- search_trends_neonatal_jaundice: string (nullable = true)\n |-- search_trends_nerve_injury: string (nullable = true)\n |-- search_trends_neuralgia: string (nullable = true)\n |-- search_trends_neutropenia: string (nullable = true)\n |-- search_trends_night_sweats: string (nullable = true)\n |-- search_trends_night_terror: string (nullable = true)\n |-- search_trends_nocturnal_enuresis: string (nullable = true)\n |-- search_trends_nodule: string (nullable = true)\n |-- search_trends_nosebleed: string (nullable = true)\n |-- search_trends_nystagmus: string (nullable = true)\n |-- search_trends_obesity: string (nullable = true)\n |-- search_trends_onychorrhexis: string (nullable = true)\n |-- search_trends_oral_candidiasis: string (nullable = true)\n |-- search_trends_orthostatic_hypotension: string (nullable = true)\n |-- search_trends_osteopenia: string (nullable = true)\n |-- search_trends_osteophyte: string (nullable = true)\n |-- search_trends_osteoporosis: string (nullable = true)\n |-- search_trends_otitis: string (nullable = true)\n |-- search_trends_otitis_externa: string (nullable = true)\n |-- search_trends_otitis_media: string (nullable = true)\n |-- search_trends_pain: string (nullable = true)\n |-- search_trends_palpitations: string (nullable = true)\n |-- search_trends_pancreatitis: string (nullable = true)\n |-- search_trends_panic_attack: string (nullable = true)\n |-- search_trends_papule: string (nullable = true)\n |-- search_trends_paranoia: string (nullable = true)\n |-- search_trends_paresthesia: string (nullable = true)\n |-- search_trends_pelvic_inflammatory_disease: string (nullable = true)\n |-- search_trends_pericarditis: string (nullable = true)\n |-- search_trends_periodontal_disease: string (nullable = true)\n |-- search_trends_periorbital_puffiness: string (nullable = true)\n |-- search_trends_peripheral_neuropathy: string (nullable = true)\n |-- search_trends_perspiration: string (nullable = true)\n |-- search_trends_petechia: string (nullable = true)\n |-- search_trends_phlegm: string (nullable = true)\n |-- search_trends_photodermatitis: string (nullable = true)\n |-- search_trends_photophobia: string (nullable = true)\n |-- search_trends_photopsia: string (nullable = true)\n |-- search_trends_pleural_effusion: string (nullable = true)\n |-- search_trends_pleurisy: string (nullable = true)\n |-- search_trends_pneumonia: string (nullable = true)\n |-- search_trends_podalgia: string (nullable = true)\n |-- search_trends_polycythemia: string (nullable = true)\n |-- search_trends_polydipsia: string (nullable = true)\n |-- search_trends_polyneuropathy: string (nullable = true)\n |-- search_trends_polyuria: string (nullable = true)\n |-- search_trends_poor_posture: string (nullable = true)\n |-- search_trends_post_nasal_drip: string (nullable = true)\n |-- search_trends_postural_orthostatic_tachycardia_syndrome: string (nullable = true)\n |-- search_trends_prediabetes: string (nullable = true)\n |-- search_trends_proteinuria: string (nullable = true)\n |-- search_trends_pruritus_ani: string (nullable = true)\n |-- search_trends_psychosis: string (nullable = true)\n |-- search_trends_ptosis: string (nullable = true)\n |-- search_trends_pulmonary_edema: string (nullable = true)\n |-- search_trends_pulmonary_hypertension: string (nullable = true)\n |-- search_trends_purpura: string (nullable = true)\n |-- search_trends_pus: string (nullable = true)\n |-- search_trends_pyelonephritis: string (nullable = true)\n |-- search_trends_radiculopathy: string (nullable = true)\n |-- search_trends_rectal_pain: string (nullable = true)\n |-- search_trends_rectal_prolapse: string (nullable = true)\n |-- search_trends_red_eye: string (nullable = true)\n |-- search_trends_renal_colic: string (nullable = true)\n |-- search_trends_restless_legs_syndrome: string (nullable = true)\n |-- search_trends_rheum: string (nullable = true)\n |-- search_trends_rhinitis: string (nullable = true)\n |-- search_trends_rhinorrhea: string (nullable = true)\n |-- search_trends_rosacea: string (nullable = true)\n |-- search_trends_round_ligament_pain: string (nullable = true)\n |-- search_trends_rumination: string (nullable = true)\n |-- search_trends_scar: string (nullable = true)\n |-- search_trends_sciatica: string (nullable = true)\n |-- search_trends_scoliosis: string (nullable = true)\n |-- search_trends_seborrheic_dermatitis: string (nullable = true)\n |-- search_trends_self_harm: string (nullable = true)\n |-- search_trends_sensitivity_to_sound: string (nullable = true)\n |-- search_trends_sexual_dysfunction: string (nullable = true)\n |-- search_trends_shallow_breathing: string (nullable = true)\n |-- search_trends_sharp_pain: string (nullable = true)\n |-- search_trends_shivering: string (nullable = true)\n |-- search_trends_shortness_of_breath: string (nullable = true)\n |-- search_trends_shyness: string (nullable = true)\n |-- search_trends_sinusitis: string (nullable = true)\n |-- search_trends_skin_condition: string (nullable = true)\n |-- search_trends_skin_rash: string (nullable = true)\n |-- search_trends_skin_tag: string (nullable = true)\n |-- search_trends_skin_ulcer: string (nullable = true)\n |-- search_trends_sleep_apnea: string (nullable = true)\n |-- search_trends_sleep_deprivation: string (nullable = true)\n |-- search_trends_sleep_disorder: string (nullable = true)\n |-- search_trends_snoring: string (nullable = true)\n |-- search_trends_sore_throat: string (nullable = true)\n |-- search_trends_spasticity: string (nullable = true)\n |-- search_trends_splenomegaly: string (nullable = true)\n |-- search_trends_sputum: string (nullable = true)\n |-- search_trends_stomach_rumble: string (nullable = true)\n |-- search_trends_strabismus: string (nullable = true)\n |-- search_trends_stretch_marks: string (nullable = true)\n |-- search_trends_stridor: string (nullable = true)\n |-- search_trends_stroke: string (nullable = true)\n |-- search_trends_stuttering: string (nullable = true)\n |-- search_trends_subdural_hematoma: string (nullable = true)\n |-- search_trends_suicidal_ideation: string (nullable = true)\n |-- search_trends_swelling: string (nullable = true)\n |-- search_trends_swollen_feet: string (nullable = true)\n |-- search_trends_swollen_lymph_nodes: string (nullable = true)\n |-- search_trends_syncope: string (nullable = true)\n |-- search_trends_tachycardia: string (nullable = true)\n |-- search_trends_tachypnea: string (nullable = true)\n |-- search_trends_telangiectasia: string (nullable = true)\n |-- search_trends_tenderness: string (nullable = true)\n |-- search_trends_testicular_pain: string (nullable = true)\n |-- search_trends_throat_irritation: string (nullable = true)\n |-- search_trends_thrombocytopenia: string (nullable = true)\n |-- search_trends_thyroid_nodule: string (nullable = true)\n |-- search_trends_tic: string (nullable = true)\n |-- search_trends_tinnitus: string (nullable = true)\n |-- search_trends_tonsillitis: string (nullable = true)\n |-- search_trends_toothache: string (nullable = true)\n |-- search_trends_tremor: string (nullable = true)\n |-- search_trends_trichoptilosis: string (nullable = true)\n |-- search_trends_tumor: string (nullable = true)\n |-- search_trends_type_2_diabetes: string (nullable = true)\n |-- search_trends_unconsciousness: string (nullable = true)\n |-- search_trends_underweight: string (nullable = true)\n |-- search_trends_upper_respiratory_tract_infection: string (nullable = true)\n |-- search_trends_urethritis: string (nullable = true)\n |-- search_trends_urinary_incontinence: string (nullable = true)\n |-- search_trends_urinary_tract_infection: string (nullable = true)\n |-- search_trends_urinary_urgency: string (nullable = true)\n |-- search_trends_uterine_contraction: string (nullable = true)\n |-- search_trends_vaginal_bleeding: string (nullable = true)\n |-- search_trends_vaginal_discharge: string (nullable = true)\n |-- search_trends_vaginitis: string (nullable = true)\n |-- search_trends_varicose_veins: string (nullable = true)\n |-- search_trends_vasculitis: string (nullable = true)\n |-- search_trends_ventricular_fibrillation: string (nullable = true)\n |-- search_trends_ventricular_tachycardia: string (nullable = true)\n |-- search_trends_vertigo: string (nullable = true)\n |-- search_trends_viral_pneumonia: string (nullable = true)\n |-- search_trends_visual_acuity: string (nullable = true)\n |-- search_trends_vomiting: string (nullable = true)\n |-- search_trends_wart: string (nullable = true)\n |-- search_trends_water_retention: string (nullable = true)\n |-- search_trends_weakness: string (nullable = true)\n |-- search_trends_weight_gain: string (nullable = true)\n |-- search_trends_wheeze: string (nullable = true)\n |-- search_trends_xeroderma: string (nullable = true)\n |-- search_trends_xerostomia: string (nullable = true)\n |-- search_trends_yawn: string (nullable = true)\n |-- new_recovered_age_0: string (nullable = true)\n |-- new_recovered_age_1: string (nullable = true)\n |-- new_recovered_age_2: string (nullable = true)\n |-- new_recovered_age_3: string (nullable = true)\n |-- new_recovered_age_4: string (nullable = true)\n |-- new_recovered_age_5: string (nullable = true)\n |-- new_recovered_age_6: string (nullable = true)\n |-- new_recovered_age_7: string (nullable = true)\n |-- new_recovered_age_8: string (nullable = true)\n |-- new_recovered_age_9: string (nullable = true)\n |-- cumulative_recovered_age_0: string (nullable = true)\n |-- cumulative_recovered_age_1: string (nullable = true)\n |-- cumulative_recovered_age_2: string (nullable = true)\n |-- cumulative_recovered_age_3: string (nullable = true)\n |-- cumulative_recovered_age_4: string (nullable = true)\n |-- cumulative_recovered_age_5: string (nullable = true)\n |-- cumulative_recovered_age_6: string (nullable = true)\n |-- cumulative_recovered_age_7: string (nullable = true)\n |-- cumulative_recovered_age_8: string (nullable = true)\n |-- cumulative_recovered_age_9: string (nullable = true)\n |-- new_recovered_male: string (nullable = true)\n |-- new_recovered_female: string (nullable = true)\n |-- cumulative_recovered_male: string (nullable = true)\n |-- cumulative_recovered_female: string (nullable = true)\n |-- locality_code: string (nullable = true)\n |-- locality_name: string (nullable = true)\n |-- new_ventilator_patients: string (nullable = true)\n |-- cumulative_ventilator_patients: string (nullable = true)\n |-- new_persons_fully_vaccinated_pfizer: string (nullable = true)\n |-- cumulative_persons_fully_vaccinated_pfizer: string (nullable = true)\n |-- new_vaccine_doses_administered_pfizer: string (nullable = true)\n |-- cumulative_vaccine_doses_administered_pfizer: string (nullable = true)\n |-- new_persons_fully_vaccinated_moderna: string (nullable = true)\n |-- cumulative_persons_fully_vaccinated_moderna: string (nullable = true)\n |-- new_vaccine_doses_administered_moderna: string (nullable = true)\n |-- cumulative_vaccine_doses_administered_moderna: string (nullable = true)\n |-- new_persons_fully_vaccinated_janssen: string (nullable = true)\n |-- cumulative_persons_fully_vaccinated_janssen: string (nullable = true)\n |-- new_vaccine_doses_administered_janssen: string (nullable = true)\n |-- cumulative_vaccine_doses_administered_janssen: string (nullable = true)\n |-- location_geometry: string (nullable = true)\n\n"
        }
      ],
      "execution_count": 5,
      "metadata": {
        "collapsed": true,
        "jupyter": {
          "outputs_hidden": true
        },
        "tags": []
      },
      "id": "fa49ebb4-5e1d-43f6-b121-4a20e4af26ab"
    },
    {
      "cell_type": "markdown",
      "source": [
        "# Preprocessing"
      ],
      "metadata": {},
      "id": "ea2d40d0-0fe1-4714-a6f6-a4c1d4870343"
    },
    {
      "cell_type": "markdown",
      "source": [
        "## 1. Drop unnecessary attributes"
      ],
      "metadata": {},
      "id": "18ade9ae-0628-4bcc-abc7-b79c5c4e20ab"
    },
    {
      "cell_type": "markdown",
      "source": [
        "### 1.1 Dropping search trend attributes"
      ],
      "metadata": {},
      "id": "aad80f4e-8993-400b-9b30-ae3ba6765757"
    },
    {
      "cell_type": "code",
      "source": [
        "from pyspark.sql.functions import col\n",
        "\n",
        "# List all column names\n",
        "columns_to_drop = [col_name for col_name in covid_data.columns if col_name.startswith('search')]\n",
        "\n",
        "# Drop columns that start with 'search'\n",
        "covid_data = covid_data.drop(*columns_to_drop)"
      ],
      "outputs": [
        {
          "output_type": "stream",
          "name": "stderr",
          "text": "Exception in thread \"serve-DataFrame\" java.net.SocketTimeoutException: Accept timed out\n\tat java.base/java.net.PlainSocketImpl.socketAccept(Native Method)\n\tat java.base/java.net.AbstractPlainSocketImpl.accept(AbstractPlainSocketImpl.java:474)\n\tat java.base/java.net.ServerSocket.implAccept(ServerSocket.java:565)\n\tat java.base/java.net.ServerSocket.accept(ServerSocket.java:533)\n\tat org.apache.spark.security.SocketAuthServer$$anon$1.run(SocketAuthServer.scala:64)\n"
        }
      ],
      "execution_count": 9,
      "metadata": {
        "tags": []
      },
      "id": "8e01c2ce-9b31-49e6-9fc9-fe06570e95e8"
    },
    {
      "cell_type": "markdown",
      "source": [
        "### 1.2 Dropping population_age attributes"
      ],
      "metadata": {},
      "id": "871fa6f5-0e75-42f8-8480-4aab6767e9b0"
    },
    {
      "cell_type": "code",
      "source": [
        "from pyspark.sql.functions import col\n",
        "\n",
        "# List all column names\n",
        "columns_to_drop = [col_name for col_name in covid_data.columns if col_name.startswith('population_age')]\n",
        "\n",
        "# Drop columns that start with 'search'\n",
        "covid_data = covid_data.drop(*columns_to_drop)"
      ],
      "outputs": [],
      "execution_count": 159,
      "metadata": {},
      "id": "9124994c-6241-4745-8b6c-bbfa45f95a01"
    },
    {
      "cell_type": "markdown",
      "source": [
        "# 2. Features Selection"
      ],
      "metadata": {},
      "id": "5b48e8a3-f638-485d-9462-07e219b1ef8b"
    },
    {
      "cell_type": "markdown",
      "source": [
        "## 2.1 Drop columns with over 60 percent of missing values "
      ],
      "metadata": {},
      "id": "32ad4a62-514d-4d48-9c73-caadbc22d397"
    },
    {
      "cell_type": "code",
      "source": [
        "#  (e.g., 60%)\n",
        "# threshold = 0.6\n",
        "# covid_data = covid_data.drop(*[c for c in covid_data.columns if (null_counts.first()[c] / covid_data.count()) >= threshold])\n",
        "\n",
        "from pyspark.sql.functions import col, sum\n",
        "\n",
        "# Define the sampling fraction (adjust as needed)\n",
        "sample_fraction = 0.1\n",
        "\n",
        "# Seed for reproducibility\n",
        "seed = 42\n",
        "\n",
        "# Sample a fraction of the data\n",
        "sample_data = covid_data.sample(fraction=sample_fraction, seed=seed)\n",
        "\n",
        "# Calculate null counts for the sampled data\n",
        "null_counts_sample = sample_data.select([sum(col(c).isNull().cast(\"int\")).alias(c) for c in covid_data.columns])\n",
        "\n",
        "# Define the threshold for null counts (adjust as needed)\n",
        "threshold = 0.5  # Example: 50% threshold\n",
        "\n",
        "# List of columns to drop based on null counts\n",
        "columns_to_drop = [c for c in null_counts_sample.columns if (null_counts_sample.first()[c] / sample_data.count()) >= threshold]\n",
        "\n",
        "# Drop the columns with null counts greater than or equal to the threshold\n",
        "covid_data = covid_data.drop(*columns_to_drop)"
      ],
      "outputs": [
        {
          "output_type": "stream",
          "name": "stderr",
          "text": "                                                                                \r"
        }
      ],
      "execution_count": 160,
      "metadata": {},
      "id": "b8358a93-23ab-4473-9029-453cc84c20eb"
    },
    {
      "cell_type": "markdown",
      "source": [
        "## 2.2 Select only attributes with positive correlation greater than 0.1"
      ],
      "metadata": {},
      "id": "0841e149-6806-4512-8004-2a13ea2008c5"
    },
    {
      "cell_type": "code",
      "source": [
        "from pyspark.sql.functions import col\n",
        "\n",
        "# Define the target variable (replace 'new_confirmed' with the actual column name)\n",
        "target_variable = 'cumulative_confirmed'\n",
        "\n",
        "# Filter only numerical columns\n",
        "numerical_columns = [col_name for col_name, data_type in covid_data.dtypes if (data_type != 'string' and data_type != 'timestamp')]\n",
        "\n",
        "# Calculate Pearson correlations between target variable and other features\n",
        "correlations = []\n",
        "\n",
        "for column in numerical_columns:\n",
        "    if column != target_variable:\n",
        "        correlation = covid_data.stat.corr(target_variable, column)\n",
        "        correlations.append((column, correlation))\n",
        "\n",
        "# Define a threshold for positive correlation (e.g., 0.1)\n",
        "threshold = 0.1\n",
        "\n",
        "# Filter for features with positive correlations\n",
        "selected_features = [col_name for col_name, correlation in correlations if correlation >= threshold]\n",
        "\n",
        "# Ensure that the 'date' column is included\n",
        "if 'date' not in selected_features:\n",
        "    selected_features.append('date')\n",
        "\n",
        "# Select only the columns with positive correlations\n",
        "filtered_data = covid_data.select(target_variable, *selected_features)"
      ],
      "outputs": [
        {
          "output_type": "stream",
          "name": "stderr",
          "text": "                                                                                \r"
        }
      ],
      "execution_count": 174,
      "metadata": {},
      "id": "f04e31f6-0331-447b-909a-3ce68bed20ba"
    },
    {
      "cell_type": "markdown",
      "source": [
        "### 2.2.1. Correlation Results"
      ],
      "metadata": {},
      "id": "a6c8261d-0c21-4e39-a63c-c35e7103e6db"
    },
    {
      "cell_type": "code",
      "source": [
        "for feature, corr in correlations:\n",
        "    print(f\"{feature}: {corr}\")"
      ],
      "outputs": [
        {
          "output_type": "stream",
          "name": "stdout",
          "text": "aggregation_level: -0.7168017928574727\nnew_confirmed: 0.15691600741304326\npopulation: 0.7219566992908605\npopulation_male: 0.7204608458246613\npopulation_female: 0.7207938099511919\npopulation_density: 0.06971713000567928\nopenstreetmap_id: -0.2428126543733652\nlatitude: 0.012378836055755184\nlongitude: -0.00955382981797972\narea_sq_km: 0.7142735034277193\naverage_temperature_celsius: -0.031446932357936094\nminimum_temperature_celsius: -0.038233225881893776\nmaximum_temperature_celsius: -0.02403236809169768\nrainfall_mm: 0.004023391442250432\ndew_point: -0.02639900324876799\nrelative_humidity: 0.0176705429085781\nmobility_retail_and_recreation: -0.0026325426130051986\nmobility_grocery_and_pharmacy: 0.027963115350482834\nmobility_parks: 0.0030732648442005346\nmobility_transit_stations: -0.037800357260187885\nmobility_workplaces: 0.020488176958712873\nmobility_residential: -0.01072908156638612\n"
        }
      ],
      "execution_count": 175,
      "metadata": {},
      "id": "ee93cd79-e542-4cd8-9877-26a66d57b662"
    },
    {
      "cell_type": "code",
      "source": [
        "filtered_data.printSchema()"
      ],
      "outputs": [
        {
          "output_type": "stream",
          "name": "stdout",
          "text": "root\n |-- cumulative_confirmed: integer (nullable = true)\n |-- new_confirmed: integer (nullable = true)\n |-- population: integer (nullable = true)\n |-- population_male: integer (nullable = true)\n |-- population_female: integer (nullable = true)\n |-- area_sq_km: integer (nullable = true)\n |-- date: timestamp (nullable = true)\n\n"
        }
      ],
      "execution_count": 176,
      "metadata": {},
      "id": "0b03f517-43cc-4b86-9c1f-33a834c1f5bf"
    },
    {
      "cell_type": "markdown",
      "source": [
        "# Handling more null values "
      ],
      "metadata": {},
      "id": "7374dd9c-a525-46c6-a09e-1077f0d9e0d1"
    },
    {
      "cell_type": "markdown",
      "source": [
        "## Null count in each feature"
      ],
      "metadata": {},
      "id": "76170703-63e4-424e-9c26-ca79b63fe577"
    },
    {
      "cell_type": "code",
      "source": [
        "from pyspark.sql import functions as F\n",
        "\n",
        "# Count null values for each column\n",
        "null_counts = {col: filtered_data.filter(F.col(col).isNull()).count() for col in filtered_data.columns}\n",
        "\n",
        "# Display the null value counts\n",
        "print(\"Null Values Count in each Feature\")\n",
        "for col, cnt in null_counts.items():\n",
        "    print(f\"{col}: {cnt}\")"
      ],
      "outputs": [
        {
          "output_type": "stream",
          "name": "stderr",
          "text": "[Stage 5540:============================>                           (1 + 1) / 2]\r"
        },
        {
          "output_type": "stream",
          "name": "stdout",
          "text": "Null Values Count in each Feature\ncumulative_confirmed: 8278\nnew_confirmed: 8320\npopulation: 0\npopulation_male: 8919\npopulation_female: 8919\narea_sq_km: 0\ndate: 0\n"
        },
        {
          "output_type": "stream",
          "name": "stderr",
          "text": "                                                                                \r"
        }
      ],
      "execution_count": 177,
      "metadata": {},
      "id": "6a0caf21-c113-4e7f-a2fd-330567ee8a2c"
    },
    {
      "cell_type": "markdown",
      "source": [
        "## Observe total number of records "
      ],
      "metadata": {},
      "id": "c6784882-71ec-48ad-801a-f9c3f44fd501"
    },
    {
      "cell_type": "code",
      "source": [
        "filtered_data.count()"
      ],
      "outputs": [
        {
          "output_type": "stream",
          "name": "stderr",
          "text": "                                                                                \r"
        },
        {
          "output_type": "execute_result",
          "execution_count": 178,
          "data": {
            "text/plain": "42613"
          },
          "metadata": {}
        }
      ],
      "execution_count": 178,
      "metadata": {},
      "id": "78aea3ea-2d43-40e9-938c-e26c8ba3fd92"
    },
    {
      "cell_type": "markdown",
      "source": [
        "## Drop records with missing values \n",
        "### we still have approximately 64 percent of our original data left in the end, which is perfectly fine"
      ],
      "metadata": {},
      "id": "61defc45-559a-4728-936f-47a2517bfeeb"
    },
    {
      "cell_type": "code",
      "source": [
        "# Drop rows with missing data\n",
        "filtered_data = filtered_data.na.drop()\n",
        "\n",
        "# Check the number of rows after dropping missing data\n",
        "print(\"Number of rows after dropping missing data:\", filtered_data.count())"
      ],
      "outputs": [
        {
          "output_type": "stream",
          "name": "stdout",
          "text": "Number of rows after dropping missing data: 27156\n"
        },
        {
          "output_type": "stream",
          "name": "stderr",
          "text": "                                                                                \r"
        }
      ],
      "execution_count": 179,
      "metadata": {},
      "id": "dd275b26-25ff-43dd-82b7-831bbe31367c"
    },
    {
      "cell_type": "code",
      "source": [
        "filtered_data.take(3)"
      ],
      "outputs": [
        {
          "output_type": "execute_result",
          "execution_count": 180,
          "data": {
            "text/plain": "[Row(cumulative_confirmed=732732, new_confirmed=2676, population=19414458, population_male=9500450, population_female=9914008, area_sq_km=238400, date=datetime.datetime(2021, 2, 2, 0, 0)),\n Row(cumulative_confirmed=235586, new_confirmed=6546, population=19414458, population_male=9500450, population_female=9914008, area_sq_km=238400, date=datetime.datetime(2020, 10, 30, 0, 0)),\n Row(cumulative_confirmed=1074297, new_confirmed=618, population=19414458, population_male=9500450, population_female=9914008, area_sq_km=238400, date=datetime.datetime(2021, 5, 20, 0, 0))]"
          },
          "metadata": {}
        }
      ],
      "execution_count": 180,
      "metadata": {
        "tags": []
      },
      "id": "0f36d55b-4e66-4354-b293-434e3221efbe"
    },
    {
      "cell_type": "markdown",
      "source": [
        "# Model Building"
      ],
      "metadata": {},
      "id": "1279d379-a515-4400-9e04-fd2dab57c51b"
    },
    {
      "cell_type": "markdown",
      "source": [
        "### 1. Linear Regression"
      ],
      "metadata": {
        "tags": []
      },
      "id": "45c66682-dc0d-4de2-80d0-a83eacab086b"
    },
    {
      "cell_type": "markdown",
      "source": [
        "## 1.1. Importing "
      ],
      "metadata": {},
      "id": "92b73c84-ff1c-452e-b217-57b3946c3f46"
    },
    {
      "cell_type": "code",
      "source": [
        "from pyspark.ml.feature import VectorAssembler\n",
        "from pyspark.ml.regression import LinearRegression\n",
        "from pyspark.ml.evaluation import RegressionEvaluator"
      ],
      "outputs": [],
      "execution_count": 181,
      "metadata": {},
      "id": "7a8822be-13bc-4a58-b488-116e48fd0dd9"
    },
    {
      "cell_type": "markdown",
      "source": [
        "## 1.2. Prepare the feature vector using VectorAssembler"
      ],
      "metadata": {},
      "id": "eca78b8a-9238-42fb-a78c-cdfdcadec8e6"
    },
    {
      "cell_type": "code",
      "source": [
        "feature_cols = ['new_confirmed', 'population', 'population_male', 'population_female', 'area_sq_km']\n",
        "assembler = VectorAssembler(inputCols=feature_cols, outputCol='features')\n",
        "data = assembler.transform(filtered_data)"
      ],
      "outputs": [],
      "execution_count": 182,
      "metadata": {},
      "id": "e9d2ca0d-579f-4db1-bfc7-2b0a5e56683d"
    },
    {
      "cell_type": "markdown",
      "source": [
        "## 1.3. Use the vector and split into training and testing "
      ],
      "metadata": {},
      "id": "6e33037b-8af2-4257-9d9b-1e191ec2632b"
    },
    {
      "cell_type": "code",
      "source": [
        "# Split the data into training and testing sets\n",
        "train_data, test_data = data.randomSplit([0.8, 0.2], seed=42)"
      ],
      "outputs": [],
      "execution_count": 183,
      "metadata": {},
      "id": "74c18954-b0b7-46d8-9cf3-e6b73886331b"
    },
    {
      "cell_type": "markdown",
      "source": [
        "## 1.4. Create and fit a Linear Regression model"
      ],
      "metadata": {},
      "id": "3bf69913-df04-4ad6-a6d9-657aa5003207"
    },
    {
      "cell_type": "code",
      "source": [
        "lr = LinearRegression(featuresCol='features', labelCol='cumulative_confirmed')\n",
        "lr_model = lr.fit(train_data)"
      ],
      "outputs": [
        {
          "output_type": "stream",
          "name": "stderr",
          "text": "23/09/12 15:39:19 WARN Instrumentation: [53ca3ff7] regParam is zero, which might cause numerical instability and overfitting.\n23/09/12 15:39:20 WARN Instrumentation: [53ca3ff7] Cholesky solver failed due to singular covariance matrix. Retrying with Quasi-Newton solver.\n                                                                                \r"
        }
      ],
      "execution_count": 184,
      "metadata": {},
      "id": "015a0915-1536-4012-a0c6-da1ecf45e383"
    },
    {
      "cell_type": "markdown",
      "source": [
        "## 1.5. Perform predictions on the test data"
      ],
      "metadata": {},
      "id": "176e5fa7-ace7-438b-8323-d06eaf26b802"
    },
    {
      "cell_type": "code",
      "source": [
        "# Make predictions on the test data\n",
        "predictions = lr_model.transform(test_data)"
      ],
      "outputs": [],
      "execution_count": 185,
      "metadata": {},
      "id": "b6275427-4716-4586-95c0-82c27315e663"
    },
    {
      "cell_type": "markdown",
      "source": [
        "## 1.6. Evaluation (Accuracy)"
      ],
      "metadata": {},
      "id": "f8cedff5-e6cf-48c1-a0f0-43b01c2594e0"
    },
    {
      "cell_type": "code",
      "source": [
        "# Evaluate the model\n",
        "evaluator = RegressionEvaluator(labelCol='cumulative_confirmed', predictionCol='prediction', metricName='rmse')\n",
        "rmse = evaluator.evaluate(predictions)\n",
        "print(\"Root Mean Squared Error (RMSE):\", rmse)"
      ],
      "outputs": [
        {
          "output_type": "stream",
          "name": "stdout",
          "text": "Root Mean Squared Error (RMSE): 209882.01633758217\n"
        },
        {
          "output_type": "stream",
          "name": "stderr",
          "text": "                                                                                \r"
        }
      ],
      "execution_count": 186,
      "metadata": {},
      "id": "9ebe8ab8-6cea-44ef-9da2-b984aba4071c"
    },
    {
      "cell_type": "code",
      "source": [
        "# Calculate the RMSE\n",
        "rmse = evaluator.evaluate(predictions)\n",
        "\n",
        "# Find the range of the target variable\n",
        "max_cumulative_confirmed = predictions.agg({\"cumulative_confirmed\": \"max\"}).collect()[0][0]\n",
        "min_cumulative_confirmed = predictions.agg({\"cumulative_confirmed\": \"min\"}).collect()[0][0]\n",
        "range_cumulative_confirmed = max_cumulative_confirmed - min_cumulative_confirmed\n",
        "\n",
        "# Calculate the NRMSE\n",
        "nrmse = rmse / range_cumulative_confirmed\n",
        "\n",
        "print(\"Normalized Root Mean Squared Error (NRMSE):\", nrmse)"
      ],
      "outputs": [
        {
          "output_type": "stream",
          "name": "stderr",
          "text": "                                                                                \r"
        },
        {
          "output_type": "stream",
          "name": "stdout",
          "text": "Normalized Root Mean Squared Error (NRMSE): 0.0646808597705997\n"
        },
        {
          "output_type": "stream",
          "name": "stderr",
          "text": "                                                                                \r"
        }
      ],
      "execution_count": 217,
      "metadata": {},
      "id": "109d6869-e4ef-4c9f-84aa-d57c4994b963"
    },
    {
      "cell_type": "markdown",
      "source": [
        "#### RMSE: 210423\n",
        "#### NRMSE: 0.0647%"
      ],
      "metadata": {},
      "id": "47d69cb9-d0fd-4447-bbc7-f98257430610"
    },
    {
      "cell_type": "markdown",
      "source": [
        "### 1.6.1. Coefficients and Intercept for the model (Optional)"
      ],
      "metadata": {
        "tags": []
      },
      "id": "a9134c97-d10b-4300-9160-0a956596a670"
    },
    {
      "cell_type": "code",
      "source": [
        "# Optionally, you can print the model's coefficients and intercept\n",
        "print(\"Coefficients:\", lr_model.coefficients)\n",
        "print(\"Intercept:\", lr_model.intercept)"
      ],
      "outputs": [
        {
          "output_type": "stream",
          "name": "stdout",
          "text": "Coefficients: [3.8004698585146506,0.028790627552520192,-0.6439374158579115,0.7010099036801943,-0.8390080638459763]\nIntercept: -2779.8126412720217\n"
        }
      ],
      "execution_count": 187,
      "metadata": {},
      "id": "ca417961-f860-42c4-a350-620bd2caf062"
    },
    {
      "cell_type": "markdown",
      "source": [
        "## Plot for the last 20 comparisons between actual and predicted cumulative confirmed cases"
      ],
      "metadata": {},
      "id": "6d912fd5-3020-4007-b44b-f3ac777961b7"
    },
    {
      "cell_type": "code",
      "source": [
        "import matplotlib.pyplot as plt\n",
        "import pandas as pd\n",
        "\n",
        "# Extract actual and predicted values for the last 20 comparisons\n",
        "last_20_predictions = predictions.orderBy('date', ascending=False).select('date', 'cumulative_confirmed', 'prediction').limit(20).toPandas()\n",
        "\n",
        "# Sort the data by date\n",
        "last_20_predictions = last_20_predictions.sort_values(by='date')\n",
        "\n",
        "# Create a linear graph\n",
        "plt.figure(figsize=(12, 6))\n",
        "plt.plot(last_20_predictions['date'], last_20_predictions['cumulative_confirmed'], label='Actual', marker='o')\n",
        "plt.plot(last_20_predictions['date'], last_20_predictions['prediction'], label='Predicted', marker='x')\n",
        "plt.xlabel('Date')\n",
        "plt.ylabel('Cumulative Confirmed Cases')\n",
        "plt.title('Actual vs. Predicted Cumulative Confirmed Cases Over Time')\n",
        "plt.legend()\n",
        "plt.grid(True)\n",
        "plt.xticks(rotation=45)\n",
        "plt.tight_layout()\n",
        "plt.show()\n"
      ],
      "outputs": [
        {
          "output_type": "stream",
          "name": "stderr",
          "text": "                                                                                \r"
        },
        {
          "output_type": "display_data",
          "data": {
            "image/png": "[encoded data removed]",
            "text/plain": "<Figure size 1200x600 with 1 Axes>"
          },
          "metadata": {}
        }
      ],
      "execution_count": 216,
      "metadata": {},
      "id": "3f636a29-8c54-45c1-8d41-fd3fbd4feabd"
    },
    {
      "cell_type": "markdown",
      "source": [
        "## 2. RandomForestRegressor"
      ],
      "metadata": {},
      "id": "c4d0573c-db10-4ce6-9f6f-a1786c42e8a8"
    },
    {
      "cell_type": "markdown",
      "source": [
        "## 2.1. Import"
      ],
      "metadata": {},
      "id": "9959f046-d986-4372-96d9-fc4b8e10f1c0"
    },
    {
      "cell_type": "code",
      "source": [
        "from pyspark.ml.feature import VectorAssembler\n",
        "from pyspark.ml.regression import RandomForestRegressor\n",
        "from pyspark.ml.evaluation import RegressionEvaluator"
      ],
      "outputs": [],
      "execution_count": 201,
      "metadata": {},
      "id": "b139a484-0ee1-4ec2-b60c-5609a23a0fa4"
    },
    {
      "cell_type": "markdown",
      "source": [
        "## 2.2 Prepare the feature vector using VectorAssembler"
      ],
      "metadata": {},
      "id": "671f59fa-ba67-4260-a965-844b3b7e697a"
    },
    {
      "cell_type": "code",
      "source": [
        "# Combine feature columns into a single feature vector column\n",
        "feature_cols = ['new_confirmed', 'population', 'area_sq_km']\n",
        "assembler = VectorAssembler(inputCols=feature_cols, outputCol='features')\n",
        "data = assembler.transform(filtered_data)"
      ],
      "outputs": [],
      "execution_count": 202,
      "metadata": {},
      "id": "da95888e-315b-4738-abd3-6aa172e96921"
    },
    {
      "cell_type": "markdown",
      "source": [
        "## 2.3. Use the vector and split train test"
      ],
      "metadata": {},
      "id": "a8df1d14-e9a7-4531-880a-7f21c9db6584"
    },
    {
      "cell_type": "code",
      "source": [
        "# Split the data into training and testing sets\n",
        "train_data, test_data = data.randomSplit([0.8, 0.2], seed=42)"
      ],
      "outputs": [],
      "execution_count": 203,
      "metadata": {},
      "id": "f954c2c1-67d3-496e-8c11-af21560bf0b2"
    },
    {
      "cell_type": "markdown",
      "source": [
        "## 2.4. Create a Random Forest Regression model"
      ],
      "metadata": {},
      "id": "d9f8023e-888c-451d-a82a-74f37968e824"
    },
    {
      "cell_type": "code",
      "source": [
        "rf = RandomForestRegressor(featuresCol='features', labelCol='cumulative_confirmed', numTrees=100, seed=42)"
      ],
      "outputs": [],
      "execution_count": 204,
      "metadata": {},
      "id": "2ba51d09-074b-48e0-86b5-2b26a81f1c38"
    },
    {
      "cell_type": "markdown",
      "source": [
        "## 2.5 Fit and Predict"
      ],
      "metadata": {},
      "id": "fb573cf5-0495-4b0b-85a9-b6af4b400578"
    },
    {
      "cell_type": "code",
      "source": [
        "rf_model = rf.fit(train_data)\n",
        "rf_predictions = rf_model.transform(test_data)"
      ],
      "outputs": [
        {
          "output_type": "stream",
          "name": "stderr",
          "text": "                                                                                \r"
        }
      ],
      "execution_count": 205,
      "metadata": {},
      "id": "6cfcf5db-b680-4bd4-83a0-79e0f3912beb"
    },
    {
      "cell_type": "markdown",
      "source": [
        "## 2.6 Evaluate"
      ],
      "metadata": {},
      "id": "09c2b4e7-848c-4493-866f-b3621b93d5cb"
    },
    {
      "cell_type": "code",
      "source": [
        "# Evaluate the model using RMSE\n",
        "evaluator = RegressionEvaluator(labelCol='cumulative_confirmed', predictionCol='prediction', metricName='rmse')\n",
        "rmse = evaluator.evaluate(rf_predictions)\n",
        "print(f\"Random Forest RMSE: {rmse}\")"
      ],
      "outputs": [
        {
          "output_type": "stream",
          "name": "stdout",
          "text": "Random Forest RMSE: 206080.19349436986\n"
        },
        {
          "output_type": "stream",
          "name": "stderr",
          "text": "                                                                                \r"
        }
      ],
      "execution_count": 194,
      "metadata": {},
      "id": "1978278c-eb11-4ddb-b1e6-f2d1d8bdc93f"
    },
    {
      "cell_type": "code",
      "source": [
        "# Calculate the RMSE\n",
        "rmse = evaluator.evaluate(rf_predictions)\n",
        "\n",
        "# Find the range of the target variable\n",
        "max_cumulative_confirmed = rf_predictions.agg({\"cumulative_confirmed\": \"max\"}).collect()[0][0]\n",
        "min_cumulative_confirmed = rf_predictions.agg({\"cumulative_confirmed\": \"min\"}).collect()[0][0]\n",
        "range_cumulative_confirmed = max_cumulative_confirmed - min_cumulative_confirmed\n",
        "\n",
        "# Calculate the NRMSE\n",
        "nrmse = rmse / range_cumulative_confirmed\n",
        "\n",
        "print(f\"Normalized RMSE (NRMSE): {nrmse}\")"
      ],
      "outputs": [
        {
          "output_type": "stream",
          "name": "stderr",
          "text": "                                                                                \r"
        },
        {
          "output_type": "stream",
          "name": "stdout",
          "text": "Normalized RMSE (NRMSE): 0.06350922451339426\n"
        },
        {
          "output_type": "stream",
          "name": "stderr",
          "text": "                                                                                \r"
        }
      ],
      "execution_count": 212,
      "metadata": {},
      "id": "d23cdb70-a3fd-4f9a-98d9-6e220ca42666"
    },
    {
      "cell_type": "markdown",
      "source": [
        "#### RMSE:  206,080\n",
        "#### NRMSE: 0.0635%"
      ],
      "metadata": {},
      "id": "0c9a6aaa-b533-42d3-bfd6-60b04ba0e2e8"
    },
    {
      "cell_type": "markdown",
      "source": [
        "# Model Evaluations Summarized:\n",
        "\n",
        "### Model 1: Linear Regression\n",
        "#### RMSE: 209,882   NRMSE: 0.0647%\n",
        "\n",
        "### Model 2: RandomForestRegressor\n",
        "#### RMSE: 206,080   NRMSE: 0.0635%"
      ],
      "metadata": {},
      "id": "b46c6d03-5a2f-4649-a2de-a0bc459ce8fe"
    },
    {
      "cell_type": "markdown",
      "source": [
        "# Conclusion\n",
        "\n",
        "##### Given that the highest recorded cumulative confirmed cases in our dataset reach approximately 3000000, an RMSE (Root Mean Square Error) averaging 206,000 is well within reason. \n",
        "\n",
        "##### Moreover, this RMSE accounts for just 6 percent of the maximum value observed in the cumulative confirmed cases, and the best NRMSE obtained is 0,0635.\n",
        "\n",
        "##### The model's predictions exhibit an average error that is merely a fraction of the highest data point in the label. In conclusion, I believe this level of accuracy is not only acceptable but also indicative of our model's effectiveness, particularly in the context of COVID-19 data analysis."
      ],
      "metadata": {},
      "id": "13325655-6378-4f85-bf41-1e48c08064d9"
    },
    {
      "cell_type": "code",
      "source": [],
      "outputs": [],
      "execution_count": null,
      "metadata": {},
      "id": "95ac6ab8-e80e-4bd4-855b-d533f9c9c16c"
    }
  ],
  "metadata": {
    "kernelspec": {
      "display_name": "PySpark",
      "language": "python",
      "name": "pyspark"
    },
    "language_info": {
      "codemirror_mode": {
        "name": "ipython",
        "version": 3
      },
      "file_extension": ".py",
      "mimetype": "text/x-python",
      "name": "python",
      "nbconvert_exporter": "python",
      "pygments_lexer": "ipython3",
      "version": "3.10.8"
    },
    "nteract": {
      "version": "nteract-front-end@1.0.0"
    }
  },
  "nbformat": 4,
  "nbformat_minor": 5
}
