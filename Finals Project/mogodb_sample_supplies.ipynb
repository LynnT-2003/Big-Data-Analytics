{
 "cells": [
  {
   "cell_type": "markdown",
   "metadata": {},
   "source": [
    "## BDA Final Project\n",
    "I cook the J Son."
   ]
  },
  {
   "cell_type": "code",
   "execution_count": 37,
   "metadata": {},
   "outputs": [],
   "source": [
    "# ⣿⣿⣿⣿⣿⣿⣿⣿⣿⣿⣿⣿⡿⠿⠿⠿⠿⢿⣿⣿⣿⣿⣿⣿⣿⣿⣿⣿⣿⣿⣿⣿\n",
    "# ⣿⣿⣿⣿⣿⣿⣿⣿⠟⠋⠁⠀⠀⠀⠀⠀⠀⠀⠀⠉⠻⣿⣿⣿⣿⣿⣿⣿⣿⣿⣿⣿\n",
    "# ⣿⣿⣿⣿⣿⣿⣿⠁⠀⠀⠀⠀⠀⠀⠀⠀⠀⠀⠀⠀⠀⢺⣿⣿⣿⣿⣿⣿⣿⣿⣿⣿\n",
    "# ⣿⣿⣿⣿⣿⣿⣿⠀⠀⠀⠀⠀⠀⠀⠀⠀⠀⠀⠀⠀⠆⠜⣿⣿⣿⣿⣿⣿⣿⣿⣿⣿\n",
    "# ⣿⣿⣿⣿⠿⠿⠛⠀⠀⠀⠀⠀⠀⠀⠀⠀⠀⠀⠀⠀⠀⠀⠀⠀⠀⠉⠻⣿⣿⣿⣿⣿\n",
    "# ⣿⣿⡏⠁⠀⠀⠀⠀⠀⣀⣠⣤⣤⣶⣶⣶⣶⣶⣦⣤⡄⠀⠀⠀⠀⢀⣴⣿⣿⣿⣿⣿\n",
    "# ⣿⣿⣷⣄⠀⠀⠀⢠⣾⣿⣿⣿⣿⣿⣿⣿⣿⣿⣿⢿⡧⠇⢀⣤⣶⣿⣿⣿⣿⣿⣿⣿\n",
    "# ⣿⣿⣿⣿⣿⣿⣾⣮⣭⣿⡻⣽⣒⠀⣤⣜⣭⠐⢐⣒⠢⢰⢸⣿⣿⣿⣿⣿⣿⣿⣿⣿\n",
    "# ⣿⣿⣿⣿⣿⣿⣿⣏⣿⣿⣿⣿⣿⣿⡟⣾⣿⠂⢈⢿⣷⣞⣸⣿⣿⣿⣿⣿⣿⣿⣿⣿\n",
    "# ⣿⣿⣿⣿⣿⣿⣿⣿⣽⣿⣿⣷⣶⣾⡿⠿⣿⠗⠈⢻⣿⣿⣿⣿⣿⣿⣿⣿⣿⣿⣿⣿\n",
    "# ⣿⣿⣿⣿⣿⣿⣿⣿⣿⣿⣿⣿⡿⠻⠋⠉⠑⠀⠀⢘⢻⣿⣿⣿⣿⣿⣿⣿⣿⣿⣿⣿\n",
    "# ⣿⣿⣿⣿⣿⣿⣿⡿⠟⢹⣿⣿⡇⢀⣶⣶⠴⠶⠀⠀⢽⣿⣿⣿⣿⣿⣿⣿⣿⣿⣿⣿\n",
    "# ⣿⣿⣿⣿⣿⣿⡿⠀⠀⢸⣿⣿⠀⠀⠣⠀⠀⠀⠀⠀⡟⢿⣿⣿⣿⣿⣿⣿⣿⣿⣿⣿\n",
    "# ⣿⣿⣿⡿⠟⠋⠀⠀⠀⠀⠹⣿⣧⣀⠀⠀⠀⠀⡀⣴⠁⢘⡙⢿⣿⣿⣿⣿⣿⣿⣿⣿\n",
    "# ⠉⠉⠁⠀⠀⠀⠀⠀⠀⠀⠀⠈⠙⢿⠗⠂⠄⠀⣴⡟⠀⠀⡃⠀⠉⠉⠟⡿⣿⣿⣿⣿\n",
    "# ⠀⠀⠀⠀⠀⠀⠀⠀⠀⠀⠀⠀⠀⠀⢷⠾⠛⠂⢹⠀⠀⠀⢡⠀⠀⠀⠀⠀⠙⠛⠿⢿"
   ]
  },
  {
   "cell_type": "markdown",
   "metadata": {},
   "source": [
    "## Preprocessing & EDA"
   ]
  },
  {
   "cell_type": "code",
   "execution_count": 38,
   "metadata": {},
   "outputs": [],
   "source": [
    "import pandas as pd\n",
    "\n",
    "# Load the JSON file into a Pandas DataFrame\n",
    "salesdf = pd.read_json('mongodb_sample_supplies.json', lines=True)"
   ]
  },
  {
   "cell_type": "code",
   "execution_count": 39,
   "metadata": {},
   "outputs": [
    {
     "data": {
      "text/html": [
       "<div>\n",
       "<style scoped>\n",
       "    .dataframe tbody tr th:only-of-type {\n",
       "        vertical-align: middle;\n",
       "    }\n",
       "\n",
       "    .dataframe tbody tr th {\n",
       "        vertical-align: top;\n",
       "    }\n",
       "\n",
       "    .dataframe thead th {\n",
       "        text-align: right;\n",
       "    }\n",
       "</style>\n",
       "<table border=\"1\" class=\"dataframe\">\n",
       "  <thead>\n",
       "    <tr style=\"text-align: right;\">\n",
       "      <th></th>\n",
       "      <th>_id</th>\n",
       "      <th>saleDate</th>\n",
       "      <th>items</th>\n",
       "      <th>storeLocation</th>\n",
       "      <th>customer</th>\n",
       "      <th>couponUsed</th>\n",
       "      <th>purchaseMethod</th>\n",
       "    </tr>\n",
       "  </thead>\n",
       "  <tbody>\n",
       "    <tr>\n",
       "      <th>0</th>\n",
       "      <td>{'$oid': '5bd761dcae323e45a93ccff7'}</td>\n",
       "      <td>{'$date': '2017-12-08T21:40:34.527Z'}</td>\n",
       "      <td>[{'name': 'laptop', 'tags': ['electronics', 's...</td>\n",
       "      <td>Denver</td>\n",
       "      <td>{'gender': 'M', 'age': 28, 'email': 'fapra@rut...</td>\n",
       "      <td>False</td>\n",
       "      <td>Phone</td>\n",
       "    </tr>\n",
       "    <tr>\n",
       "      <th>1</th>\n",
       "      <td>{'$oid': '5bd761dcae323e45a93cd000'}</td>\n",
       "      <td>{'$date': '2015-05-15T13:43:24.561Z'}</td>\n",
       "      <td>[{'name': 'printer paper', 'tags': ['office', ...</td>\n",
       "      <td>London</td>\n",
       "      <td>{'gender': 'F', 'age': 27, 'email': 'zu@bainku...</td>\n",
       "      <td>False</td>\n",
       "      <td>Online</td>\n",
       "    </tr>\n",
       "    <tr>\n",
       "      <th>2</th>\n",
       "      <td>{'$oid': '5bd761dcae323e45a93ccfeb'}</td>\n",
       "      <td>{'$date': '2015-02-23T09:53:59.343Z'}</td>\n",
       "      <td>[{'name': 'binder', 'tags': ['school', 'genera...</td>\n",
       "      <td>Seattle</td>\n",
       "      <td>{'gender': 'F', 'age': 45, 'email': 'vatires@t...</td>\n",
       "      <td>False</td>\n",
       "      <td>In store</td>\n",
       "    </tr>\n",
       "    <tr>\n",
       "      <th>3</th>\n",
       "      <td>{'$oid': '5bd761dcae323e45a93ccfe8'}</td>\n",
       "      <td>{'$date': '2015-03-23T21:06:49.506Z'}</td>\n",
       "      <td>[{'name': 'printer paper', 'tags': ['office', ...</td>\n",
       "      <td>Denver</td>\n",
       "      <td>{'gender': 'M', 'age': 42, 'email': 'cauho@wit...</td>\n",
       "      <td>True</td>\n",
       "      <td>Online</td>\n",
       "    </tr>\n",
       "    <tr>\n",
       "      <th>4</th>\n",
       "      <td>{'$oid': '5bd761dcae323e45a93ccfe9'}</td>\n",
       "      <td>{'$date': '2015-08-25T10:01:02.918Z'}</td>\n",
       "      <td>[{'name': 'envelopes', 'tags': ['stationary', ...</td>\n",
       "      <td>Seattle</td>\n",
       "      <td>{'gender': 'M', 'age': 50, 'email': 'keecade@h...</td>\n",
       "      <td>False</td>\n",
       "      <td>Phone</td>\n",
       "    </tr>\n",
       "  </tbody>\n",
       "</table>\n",
       "</div>"
      ],
      "text/plain": [
       "                                    _id  \\\n",
       "0  {'$oid': '5bd761dcae323e45a93ccff7'}   \n",
       "1  {'$oid': '5bd761dcae323e45a93cd000'}   \n",
       "2  {'$oid': '5bd761dcae323e45a93ccfeb'}   \n",
       "3  {'$oid': '5bd761dcae323e45a93ccfe8'}   \n",
       "4  {'$oid': '5bd761dcae323e45a93ccfe9'}   \n",
       "\n",
       "                                saleDate  \\\n",
       "0  {'$date': '2017-12-08T21:40:34.527Z'}   \n",
       "1  {'$date': '2015-05-15T13:43:24.561Z'}   \n",
       "2  {'$date': '2015-02-23T09:53:59.343Z'}   \n",
       "3  {'$date': '2015-03-23T21:06:49.506Z'}   \n",
       "4  {'$date': '2015-08-25T10:01:02.918Z'}   \n",
       "\n",
       "                                               items storeLocation  \\\n",
       "0  [{'name': 'laptop', 'tags': ['electronics', 's...        Denver   \n",
       "1  [{'name': 'printer paper', 'tags': ['office', ...        London   \n",
       "2  [{'name': 'binder', 'tags': ['school', 'genera...       Seattle   \n",
       "3  [{'name': 'printer paper', 'tags': ['office', ...        Denver   \n",
       "4  [{'name': 'envelopes', 'tags': ['stationary', ...       Seattle   \n",
       "\n",
       "                                            customer  couponUsed  \\\n",
       "0  {'gender': 'M', 'age': 28, 'email': 'fapra@rut...       False   \n",
       "1  {'gender': 'F', 'age': 27, 'email': 'zu@bainku...       False   \n",
       "2  {'gender': 'F', 'age': 45, 'email': 'vatires@t...       False   \n",
       "3  {'gender': 'M', 'age': 42, 'email': 'cauho@wit...        True   \n",
       "4  {'gender': 'M', 'age': 50, 'email': 'keecade@h...       False   \n",
       "\n",
       "  purchaseMethod  \n",
       "0          Phone  \n",
       "1         Online  \n",
       "2       In store  \n",
       "3         Online  \n",
       "4          Phone  "
      ]
     },
     "execution_count": 39,
     "metadata": {},
     "output_type": "execute_result"
    }
   ],
   "source": [
    "salesdf.head()"
   ]
  },
  {
   "cell_type": "code",
   "execution_count": 40,
   "metadata": {},
   "outputs": [],
   "source": [
    "#Flatten the 'items' column into individual rows\n",
    "salesdf = salesdf.explode('items')\n"
   ]
  },
  {
   "cell_type": "code",
   "execution_count": 41,
   "metadata": {},
   "outputs": [
    {
     "data": {
      "text/html": [
       "<div>\n",
       "<style scoped>\n",
       "    .dataframe tbody tr th:only-of-type {\n",
       "        vertical-align: middle;\n",
       "    }\n",
       "\n",
       "    .dataframe tbody tr th {\n",
       "        vertical-align: top;\n",
       "    }\n",
       "\n",
       "    .dataframe thead th {\n",
       "        text-align: right;\n",
       "    }\n",
       "</style>\n",
       "<table border=\"1\" class=\"dataframe\">\n",
       "  <thead>\n",
       "    <tr style=\"text-align: right;\">\n",
       "      <th></th>\n",
       "      <th>_id</th>\n",
       "      <th>saleDate</th>\n",
       "      <th>items</th>\n",
       "      <th>storeLocation</th>\n",
       "      <th>customer</th>\n",
       "      <th>couponUsed</th>\n",
       "      <th>purchaseMethod</th>\n",
       "    </tr>\n",
       "  </thead>\n",
       "  <tbody>\n",
       "    <tr>\n",
       "      <th>0</th>\n",
       "      <td>{'$oid': '5bd761dcae323e45a93ccff7'}</td>\n",
       "      <td>{'$date': '2017-12-08T21:40:34.527Z'}</td>\n",
       "      <td>{'name': 'laptop', 'tags': ['electronics', 'sc...</td>\n",
       "      <td>Denver</td>\n",
       "      <td>{'gender': 'M', 'age': 28, 'email': 'fapra@rut...</td>\n",
       "      <td>False</td>\n",
       "      <td>Phone</td>\n",
       "    </tr>\n",
       "    <tr>\n",
       "      <th>0</th>\n",
       "      <td>{'$oid': '5bd761dcae323e45a93ccff7'}</td>\n",
       "      <td>{'$date': '2017-12-08T21:40:34.527Z'}</td>\n",
       "      <td>{'name': 'envelopes', 'tags': ['stationary', '...</td>\n",
       "      <td>Denver</td>\n",
       "      <td>{'gender': 'M', 'age': 28, 'email': 'fapra@rut...</td>\n",
       "      <td>False</td>\n",
       "      <td>Phone</td>\n",
       "    </tr>\n",
       "    <tr>\n",
       "      <th>0</th>\n",
       "      <td>{'$oid': '5bd761dcae323e45a93ccff7'}</td>\n",
       "      <td>{'$date': '2017-12-08T21:40:34.527Z'}</td>\n",
       "      <td>{'name': 'printer paper', 'tags': ['office', '...</td>\n",
       "      <td>Denver</td>\n",
       "      <td>{'gender': 'M', 'age': 28, 'email': 'fapra@rut...</td>\n",
       "      <td>False</td>\n",
       "      <td>Phone</td>\n",
       "    </tr>\n",
       "    <tr>\n",
       "      <th>1</th>\n",
       "      <td>{'$oid': '5bd761dcae323e45a93cd000'}</td>\n",
       "      <td>{'$date': '2015-05-15T13:43:24.561Z'}</td>\n",
       "      <td>{'name': 'printer paper', 'tags': ['office', '...</td>\n",
       "      <td>London</td>\n",
       "      <td>{'gender': 'F', 'age': 27, 'email': 'zu@bainku...</td>\n",
       "      <td>False</td>\n",
       "      <td>Online</td>\n",
       "    </tr>\n",
       "    <tr>\n",
       "      <th>1</th>\n",
       "      <td>{'$oid': '5bd761dcae323e45a93cd000'}</td>\n",
       "      <td>{'$date': '2015-05-15T13:43:24.561Z'}</td>\n",
       "      <td>{'name': 'notepad', 'tags': ['office', 'writin...</td>\n",
       "      <td>London</td>\n",
       "      <td>{'gender': 'F', 'age': 27, 'email': 'zu@bainku...</td>\n",
       "      <td>False</td>\n",
       "      <td>Online</td>\n",
       "    </tr>\n",
       "  </tbody>\n",
       "</table>\n",
       "</div>"
      ],
      "text/plain": [
       "                                    _id  \\\n",
       "0  {'$oid': '5bd761dcae323e45a93ccff7'}   \n",
       "0  {'$oid': '5bd761dcae323e45a93ccff7'}   \n",
       "0  {'$oid': '5bd761dcae323e45a93ccff7'}   \n",
       "1  {'$oid': '5bd761dcae323e45a93cd000'}   \n",
       "1  {'$oid': '5bd761dcae323e45a93cd000'}   \n",
       "\n",
       "                                saleDate  \\\n",
       "0  {'$date': '2017-12-08T21:40:34.527Z'}   \n",
       "0  {'$date': '2017-12-08T21:40:34.527Z'}   \n",
       "0  {'$date': '2017-12-08T21:40:34.527Z'}   \n",
       "1  {'$date': '2015-05-15T13:43:24.561Z'}   \n",
       "1  {'$date': '2015-05-15T13:43:24.561Z'}   \n",
       "\n",
       "                                               items storeLocation  \\\n",
       "0  {'name': 'laptop', 'tags': ['electronics', 'sc...        Denver   \n",
       "0  {'name': 'envelopes', 'tags': ['stationary', '...        Denver   \n",
       "0  {'name': 'printer paper', 'tags': ['office', '...        Denver   \n",
       "1  {'name': 'printer paper', 'tags': ['office', '...        London   \n",
       "1  {'name': 'notepad', 'tags': ['office', 'writin...        London   \n",
       "\n",
       "                                            customer  couponUsed  \\\n",
       "0  {'gender': 'M', 'age': 28, 'email': 'fapra@rut...       False   \n",
       "0  {'gender': 'M', 'age': 28, 'email': 'fapra@rut...       False   \n",
       "0  {'gender': 'M', 'age': 28, 'email': 'fapra@rut...       False   \n",
       "1  {'gender': 'F', 'age': 27, 'email': 'zu@bainku...       False   \n",
       "1  {'gender': 'F', 'age': 27, 'email': 'zu@bainku...       False   \n",
       "\n",
       "  purchaseMethod  \n",
       "0          Phone  \n",
       "0          Phone  \n",
       "0          Phone  \n",
       "1         Online  \n",
       "1         Online  "
      ]
     },
     "execution_count": 41,
     "metadata": {},
     "output_type": "execute_result"
    }
   ],
   "source": [
    "salesdf.head()"
   ]
  },
  {
   "cell_type": "markdown",
   "metadata": {},
   "source": [
    "## Queries"
   ]
  },
  {
   "cell_type": "markdown",
   "metadata": {},
   "source": [
    "### Query 1: Show top 10 products (name) sales (quantity x price)."
   ]
  },
  {
   "cell_type": "code",
   "execution_count": 42,
   "metadata": {},
   "outputs": [],
   "source": [
    "# Get the product name from 'items' dictionary\n",
    "# Since the product name is nested in a dictionary, we will be using a function to extract it\n",
    "# We need to access the # value of 'name' within the 'items' dictionary\n",
    "\n",
    "# Extract the 'name' from the 'items' dictionaries, which are nested within each row. \n",
    "# Access the 'name' value within these dictionaries as follows:\n",
    "\n",
    "def extract_product_name(item):\n",
    "    return item['name']\n",
    "\n",
    "salesdf['product_name'] = salesdf['items'].apply(extract_product_name)"
   ]
  },
  {
   "cell_type": "code",
   "execution_count": 43,
   "metadata": {},
   "outputs": [
    {
     "name": "stdout",
     "output_type": "stream",
     "text": [
      "Index(['_id', 'saleDate', 'items', 'storeLocation', 'customer', 'couponUsed',\n",
      "       'purchaseMethod', 'product_name'],\n",
      "      dtype='object')\n"
     ]
    }
   ],
   "source": [
    "print(salesdf.columns)"
   ]
  },
  {
   "cell_type": "code",
   "execution_count": 44,
   "metadata": {},
   "outputs": [
    {
     "data": {
      "text/html": [
       "<div>\n",
       "<style scoped>\n",
       "    .dataframe tbody tr th:only-of-type {\n",
       "        vertical-align: middle;\n",
       "    }\n",
       "\n",
       "    .dataframe tbody tr th {\n",
       "        vertical-align: top;\n",
       "    }\n",
       "\n",
       "    .dataframe thead th {\n",
       "        text-align: right;\n",
       "    }\n",
       "</style>\n",
       "<table border=\"1\" class=\"dataframe\">\n",
       "  <thead>\n",
       "    <tr style=\"text-align: right;\">\n",
       "      <th></th>\n",
       "      <th>_id</th>\n",
       "      <th>saleDate</th>\n",
       "      <th>items</th>\n",
       "      <th>storeLocation</th>\n",
       "      <th>customer</th>\n",
       "      <th>couponUsed</th>\n",
       "      <th>purchaseMethod</th>\n",
       "      <th>product_name</th>\n",
       "    </tr>\n",
       "  </thead>\n",
       "  <tbody>\n",
       "    <tr>\n",
       "      <th>0</th>\n",
       "      <td>{'$oid': '5bd761dcae323e45a93ccff7'}</td>\n",
       "      <td>{'$date': '2017-12-08T21:40:34.527Z'}</td>\n",
       "      <td>{'name': 'laptop', 'tags': ['electronics', 'sc...</td>\n",
       "      <td>Denver</td>\n",
       "      <td>{'gender': 'M', 'age': 28, 'email': 'fapra@rut...</td>\n",
       "      <td>False</td>\n",
       "      <td>Phone</td>\n",
       "      <td>laptop</td>\n",
       "    </tr>\n",
       "    <tr>\n",
       "      <th>0</th>\n",
       "      <td>{'$oid': '5bd761dcae323e45a93ccff7'}</td>\n",
       "      <td>{'$date': '2017-12-08T21:40:34.527Z'}</td>\n",
       "      <td>{'name': 'envelopes', 'tags': ['stationary', '...</td>\n",
       "      <td>Denver</td>\n",
       "      <td>{'gender': 'M', 'age': 28, 'email': 'fapra@rut...</td>\n",
       "      <td>False</td>\n",
       "      <td>Phone</td>\n",
       "      <td>envelopes</td>\n",
       "    </tr>\n",
       "    <tr>\n",
       "      <th>0</th>\n",
       "      <td>{'$oid': '5bd761dcae323e45a93ccff7'}</td>\n",
       "      <td>{'$date': '2017-12-08T21:40:34.527Z'}</td>\n",
       "      <td>{'name': 'printer paper', 'tags': ['office', '...</td>\n",
       "      <td>Denver</td>\n",
       "      <td>{'gender': 'M', 'age': 28, 'email': 'fapra@rut...</td>\n",
       "      <td>False</td>\n",
       "      <td>Phone</td>\n",
       "      <td>printer paper</td>\n",
       "    </tr>\n",
       "    <tr>\n",
       "      <th>1</th>\n",
       "      <td>{'$oid': '5bd761dcae323e45a93cd000'}</td>\n",
       "      <td>{'$date': '2015-05-15T13:43:24.561Z'}</td>\n",
       "      <td>{'name': 'printer paper', 'tags': ['office', '...</td>\n",
       "      <td>London</td>\n",
       "      <td>{'gender': 'F', 'age': 27, 'email': 'zu@bainku...</td>\n",
       "      <td>False</td>\n",
       "      <td>Online</td>\n",
       "      <td>printer paper</td>\n",
       "    </tr>\n",
       "    <tr>\n",
       "      <th>1</th>\n",
       "      <td>{'$oid': '5bd761dcae323e45a93cd000'}</td>\n",
       "      <td>{'$date': '2015-05-15T13:43:24.561Z'}</td>\n",
       "      <td>{'name': 'notepad', 'tags': ['office', 'writin...</td>\n",
       "      <td>London</td>\n",
       "      <td>{'gender': 'F', 'age': 27, 'email': 'zu@bainku...</td>\n",
       "      <td>False</td>\n",
       "      <td>Online</td>\n",
       "      <td>notepad</td>\n",
       "    </tr>\n",
       "  </tbody>\n",
       "</table>\n",
       "</div>"
      ],
      "text/plain": [
       "                                    _id  \\\n",
       "0  {'$oid': '5bd761dcae323e45a93ccff7'}   \n",
       "0  {'$oid': '5bd761dcae323e45a93ccff7'}   \n",
       "0  {'$oid': '5bd761dcae323e45a93ccff7'}   \n",
       "1  {'$oid': '5bd761dcae323e45a93cd000'}   \n",
       "1  {'$oid': '5bd761dcae323e45a93cd000'}   \n",
       "\n",
       "                                saleDate  \\\n",
       "0  {'$date': '2017-12-08T21:40:34.527Z'}   \n",
       "0  {'$date': '2017-12-08T21:40:34.527Z'}   \n",
       "0  {'$date': '2017-12-08T21:40:34.527Z'}   \n",
       "1  {'$date': '2015-05-15T13:43:24.561Z'}   \n",
       "1  {'$date': '2015-05-15T13:43:24.561Z'}   \n",
       "\n",
       "                                               items storeLocation  \\\n",
       "0  {'name': 'laptop', 'tags': ['electronics', 'sc...        Denver   \n",
       "0  {'name': 'envelopes', 'tags': ['stationary', '...        Denver   \n",
       "0  {'name': 'printer paper', 'tags': ['office', '...        Denver   \n",
       "1  {'name': 'printer paper', 'tags': ['office', '...        London   \n",
       "1  {'name': 'notepad', 'tags': ['office', 'writin...        London   \n",
       "\n",
       "                                            customer  couponUsed  \\\n",
       "0  {'gender': 'M', 'age': 28, 'email': 'fapra@rut...       False   \n",
       "0  {'gender': 'M', 'age': 28, 'email': 'fapra@rut...       False   \n",
       "0  {'gender': 'M', 'age': 28, 'email': 'fapra@rut...       False   \n",
       "1  {'gender': 'F', 'age': 27, 'email': 'zu@bainku...       False   \n",
       "1  {'gender': 'F', 'age': 27, 'email': 'zu@bainku...       False   \n",
       "\n",
       "  purchaseMethod   product_name  \n",
       "0          Phone         laptop  \n",
       "0          Phone      envelopes  \n",
       "0          Phone  printer paper  \n",
       "1         Online  printer paper  \n",
       "1         Online        notepad  "
      ]
     },
     "execution_count": 44,
     "metadata": {},
     "output_type": "execute_result"
    }
   ],
   "source": [
    "salesdf.head()"
   ]
  },
  {
   "cell_type": "code",
   "execution_count": 45,
   "metadata": {},
   "outputs": [
    {
     "name": "stdout",
     "output_type": "stream",
     "text": [
      "    Product Name  Count\n",
      "0        notepad   6872\n",
      "1         binder   4676\n",
      "2           pens   4559\n",
      "3      envelopes   4505\n",
      "4       backpack   2309\n",
      "5         laptop   2271\n",
      "6  printer paper   2246\n"
     ]
    }
   ],
   "source": [
    "# Group by product name and count the occurrences\n",
    "top_products = salesdf['product_name'].value_counts().nlargest(10).reset_index()\n",
    "\n",
    "# Rename the columns for clarity\n",
    "top_products.columns = ['Product Name', 'Count']\n",
    "\n",
    "print(top_products)"
   ]
  },
  {
   "cell_type": "markdown",
   "metadata": {},
   "source": [
    "### Query 2: Show top 3 products (name) sales by store (location)."
   ]
  },
  {
   "cell_type": "code",
   "execution_count": 46,
   "metadata": {},
   "outputs": [],
   "source": [
    "# Extract the 'quantity' and 'price' from the 'items' dictionaries, which are nested within each row. \n",
    "# Access the 'quantity' and 'price' value within these dictionaries as follows:\n",
    "# Calculate the sales (quantity x price) for each product\n",
    "\n",
    "def calculate_sales(item):\n",
    "    quantity = item['quantity']\n",
    "    price = float(item['price']['$numberDecimal'])\n",
    "    return quantity * price\n",
    "\n",
    "\n",
    "salesdf['sales'] = salesdf['items'].apply(calculate_sales)\n"
   ]
  },
  {
   "cell_type": "code",
   "execution_count": 47,
   "metadata": {},
   "outputs": [
    {
     "data": {
      "text/plain": [
       "Index(['_id', 'saleDate', 'items', 'storeLocation', 'customer', 'couponUsed',\n",
       "       'purchaseMethod', 'product_name', 'sales'],\n",
       "      dtype='object')"
      ]
     },
     "execution_count": 47,
     "metadata": {},
     "output_type": "execute_result"
    }
   ],
   "source": [
    "salesdf.columns"
   ]
  },
  {
   "cell_type": "code",
   "execution_count": 48,
   "metadata": {},
   "outputs": [
    {
     "data": {
      "text/html": [
       "<div>\n",
       "<style scoped>\n",
       "    .dataframe tbody tr th:only-of-type {\n",
       "        vertical-align: middle;\n",
       "    }\n",
       "\n",
       "    .dataframe tbody tr th {\n",
       "        vertical-align: top;\n",
       "    }\n",
       "\n",
       "    .dataframe thead th {\n",
       "        text-align: right;\n",
       "    }\n",
       "</style>\n",
       "<table border=\"1\" class=\"dataframe\">\n",
       "  <thead>\n",
       "    <tr style=\"text-align: right;\">\n",
       "      <th></th>\n",
       "      <th>_id</th>\n",
       "      <th>saleDate</th>\n",
       "      <th>items</th>\n",
       "      <th>storeLocation</th>\n",
       "      <th>customer</th>\n",
       "      <th>couponUsed</th>\n",
       "      <th>purchaseMethod</th>\n",
       "      <th>product_name</th>\n",
       "      <th>sales</th>\n",
       "    </tr>\n",
       "  </thead>\n",
       "  <tbody>\n",
       "    <tr>\n",
       "      <th>4998</th>\n",
       "      <td>{'$oid': '5bd761deae323e45a93ce35a'}</td>\n",
       "      <td>{'$date': '2015-04-27T23:12:34.004Z'}</td>\n",
       "      <td>{'name': 'notepad', 'tags': ['office', 'writin...</td>\n",
       "      <td>Austin</td>\n",
       "      <td>{'gender': 'M', 'age': 41, 'email': 'bi@kok.pw...</td>\n",
       "      <td>True</td>\n",
       "      <td>In store</td>\n",
       "      <td>notepad</td>\n",
       "      <td>70.88</td>\n",
       "    </tr>\n",
       "    <tr>\n",
       "      <th>4999</th>\n",
       "      <td>{'$oid': '5bd761deae323e45a93ce36a'}</td>\n",
       "      <td>{'$date': '2013-10-06T22:39:37.868Z'}</td>\n",
       "      <td>{'name': 'envelopes', 'tags': ['stationary', '...</td>\n",
       "      <td>Denver</td>\n",
       "      <td>{'gender': 'F', 'age': 62, 'email': 'opujuw@ab...</td>\n",
       "      <td>False</td>\n",
       "      <td>In store</td>\n",
       "      <td>envelopes</td>\n",
       "      <td>163.80</td>\n",
       "    </tr>\n",
       "    <tr>\n",
       "      <th>4999</th>\n",
       "      <td>{'$oid': '5bd761deae323e45a93ce36a'}</td>\n",
       "      <td>{'$date': '2013-10-06T22:39:37.868Z'}</td>\n",
       "      <td>{'name': 'binder', 'tags': ['school', 'general...</td>\n",
       "      <td>Denver</td>\n",
       "      <td>{'gender': 'F', 'age': 62, 'email': 'opujuw@ab...</td>\n",
       "      <td>False</td>\n",
       "      <td>In store</td>\n",
       "      <td>binder</td>\n",
       "      <td>79.74</td>\n",
       "    </tr>\n",
       "    <tr>\n",
       "      <th>4999</th>\n",
       "      <td>{'$oid': '5bd761deae323e45a93ce36a'}</td>\n",
       "      <td>{'$date': '2013-10-06T22:39:37.868Z'}</td>\n",
       "      <td>{'name': 'envelopes', 'tags': ['stationary', '...</td>\n",
       "      <td>Denver</td>\n",
       "      <td>{'gender': 'F', 'age': 62, 'email': 'opujuw@ab...</td>\n",
       "      <td>False</td>\n",
       "      <td>In store</td>\n",
       "      <td>envelopes</td>\n",
       "      <td>21.48</td>\n",
       "    </tr>\n",
       "    <tr>\n",
       "      <th>4999</th>\n",
       "      <td>{'$oid': '5bd761deae323e45a93ce36a'}</td>\n",
       "      <td>{'$date': '2013-10-06T22:39:37.868Z'}</td>\n",
       "      <td>{'name': 'printer paper', 'tags': ['office', '...</td>\n",
       "      <td>Denver</td>\n",
       "      <td>{'gender': 'F', 'age': 62, 'email': 'opujuw@ab...</td>\n",
       "      <td>False</td>\n",
       "      <td>In store</td>\n",
       "      <td>printer paper</td>\n",
       "      <td>84.88</td>\n",
       "    </tr>\n",
       "  </tbody>\n",
       "</table>\n",
       "</div>"
      ],
      "text/plain": [
       "                                       _id  \\\n",
       "4998  {'$oid': '5bd761deae323e45a93ce35a'}   \n",
       "4999  {'$oid': '5bd761deae323e45a93ce36a'}   \n",
       "4999  {'$oid': '5bd761deae323e45a93ce36a'}   \n",
       "4999  {'$oid': '5bd761deae323e45a93ce36a'}   \n",
       "4999  {'$oid': '5bd761deae323e45a93ce36a'}   \n",
       "\n",
       "                                   saleDate  \\\n",
       "4998  {'$date': '2015-04-27T23:12:34.004Z'}   \n",
       "4999  {'$date': '2013-10-06T22:39:37.868Z'}   \n",
       "4999  {'$date': '2013-10-06T22:39:37.868Z'}   \n",
       "4999  {'$date': '2013-10-06T22:39:37.868Z'}   \n",
       "4999  {'$date': '2013-10-06T22:39:37.868Z'}   \n",
       "\n",
       "                                                  items storeLocation  \\\n",
       "4998  {'name': 'notepad', 'tags': ['office', 'writin...        Austin   \n",
       "4999  {'name': 'envelopes', 'tags': ['stationary', '...        Denver   \n",
       "4999  {'name': 'binder', 'tags': ['school', 'general...        Denver   \n",
       "4999  {'name': 'envelopes', 'tags': ['stationary', '...        Denver   \n",
       "4999  {'name': 'printer paper', 'tags': ['office', '...        Denver   \n",
       "\n",
       "                                               customer  couponUsed  \\\n",
       "4998  {'gender': 'M', 'age': 41, 'email': 'bi@kok.pw...        True   \n",
       "4999  {'gender': 'F', 'age': 62, 'email': 'opujuw@ab...       False   \n",
       "4999  {'gender': 'F', 'age': 62, 'email': 'opujuw@ab...       False   \n",
       "4999  {'gender': 'F', 'age': 62, 'email': 'opujuw@ab...       False   \n",
       "4999  {'gender': 'F', 'age': 62, 'email': 'opujuw@ab...       False   \n",
       "\n",
       "     purchaseMethod   product_name   sales  \n",
       "4998       In store        notepad   70.88  \n",
       "4999       In store      envelopes  163.80  \n",
       "4999       In store         binder   79.74  \n",
       "4999       In store      envelopes   21.48  \n",
       "4999       In store  printer paper   84.88  "
      ]
     },
     "execution_count": 48,
     "metadata": {},
     "output_type": "execute_result"
    }
   ],
   "source": [
    "salesdf.tail()"
   ]
  },
  {
   "cell_type": "code",
   "execution_count": 49,
   "metadata": {},
   "outputs": [
    {
     "name": "stdout",
     "output_type": "stream",
     "text": [
      "   storeLocation product_name       sales  rank\n",
      "0         Austin     backpack   115217.59   2.0\n",
      "3         Austin       laptop  1018494.05   1.0\n",
      "5         Austin         pens    74622.52   3.0\n",
      "7         Denver     backpack   245679.34   2.0\n",
      "10        Denver       laptop  1961659.25   1.0\n",
      "12        Denver         pens   185008.39   3.0\n",
      "14        London     backpack   144529.14   2.0\n",
      "17        London       laptop  1073098.72   1.0\n",
      "19        London         pens    92602.30   3.0\n",
      "21      New York     backpack    82563.14   2.0\n",
      "24      New York       laptop   694613.32   1.0\n",
      "26      New York         pens    64029.90   3.0\n",
      "28     San Diego     backpack    50997.42   2.0\n",
      "31     San Diego       laptop   462973.58   1.0\n",
      "33     San Diego         pens    42134.55   3.0\n",
      "35       Seattle     backpack   178387.47   2.0\n",
      "38       Seattle       laptop  1565138.15   1.0\n",
      "40       Seattle         pens   123445.61   3.0\n"
     ]
    }
   ],
   "source": [
    "# Group by store location and product name, and sum the sales\n",
    "top_3_products_per_store = salesdf.groupby(['storeLocation', 'product_name'])['sales'].sum().reset_index()\n",
    "\n",
    "# Rank the products by sales for each store location\n",
    "top_3_products_per_store['rank'] = top_3_products_per_store.groupby('storeLocation')['sales'].rank(ascending=False, method='min')\n",
    "\n",
    "# Filter the top 3 products for each store location\n",
    "top_3_products_per_store = top_3_products_per_store[top_3_products_per_store['rank'] <= 3]\n",
    "\n",
    "print(top_3_products_by_store)"
   ]
  },
  {
   "cell_type": "markdown",
   "metadata": {},
   "source": [
    "### Query 3: Show rankings of each store (location)."
   ]
  },
  {
   "cell_type": "code",
   "execution_count": 50,
   "metadata": {},
   "outputs": [
    {
     "name": "stdout",
     "output_type": "stream",
     "text": [
      "  storeLocation       sales  rank\n",
      "1        Denver  2921009.92   1.0\n",
      "5       Seattle  2255947.69   2.0\n",
      "2        London  1583066.79   3.0\n",
      "0        Austin  1445603.11   4.0\n",
      "3      New York  1016059.59   5.0\n",
      "4     San Diego   672885.17   6.0\n"
     ]
    }
   ],
   "source": [
    "# Group by store location and sum the sales for each location\n",
    "store_rankings = salesdf.groupby('storeLocation')['sales'].sum().reset_index()\n",
    "\n",
    "# Rank the store locations by sales\n",
    "store_rankings['rank'] = store_rankings['sales'].rank(ascending=False, method='min')\n",
    "\n",
    "# Sort the store rankings by rank\n",
    "store_rankings = store_rankings.sort_values(by='rank')\n",
    "\n",
    "print(store_rankings)"
   ]
  },
  {
   "cell_type": "code",
   "execution_count": 51,
   "metadata": {},
   "outputs": [
    {
     "data": {
      "text/plain": [
       "Index(['_id', 'saleDate', 'items', 'storeLocation', 'customer', 'couponUsed',\n",
       "       'purchaseMethod', 'product_name', 'sales'],\n",
       "      dtype='object')"
      ]
     },
     "execution_count": 51,
     "metadata": {},
     "output_type": "execute_result"
    }
   ],
   "source": [
    "salesdf.columns"
   ]
  },
  {
   "cell_type": "markdown",
   "metadata": {},
   "source": [
    "### Query 4: Show purchased method by gender in a table"
   ]
  },
  {
   "cell_type": "code",
   "execution_count": 52,
   "metadata": {},
   "outputs": [],
   "source": [
    "# Extract the 'gender' from the 'cusomter' dictionaries, which are nested within each row. \n",
    "# Access the 'gender' value within these dictionaries as follows:\n",
    "\n",
    "def extract_customer_gender(customer):\n",
    "    return customer.get('gender')\n",
    "\n",
    "salesdf['gender'] = salesdf['customer'].apply(extract_customer_gender)\n"
   ]
  },
  {
   "cell_type": "code",
   "execution_count": 53,
   "metadata": {},
   "outputs": [
    {
     "data": {
      "text/plain": [
       "Index(['_id', 'saleDate', 'items', 'storeLocation', 'customer', 'couponUsed',\n",
       "       'purchaseMethod', 'product_name', 'sales', 'gender'],\n",
       "      dtype='object')"
      ]
     },
     "execution_count": 53,
     "metadata": {},
     "output_type": "execute_result"
    }
   ],
   "source": [
    "salesdf.columns"
   ]
  },
  {
   "cell_type": "code",
   "execution_count": 54,
   "metadata": {},
   "outputs": [
    {
     "name": "stdout",
     "output_type": "stream",
     "text": [
      "purchaseMethod  In store  Online  Phone\n",
      "Gender                                 \n",
      "F                   8062    4270   1499\n",
      "M                   7571    4314   1722\n"
     ]
    }
   ],
   "source": [
    "# Create a pivot table to count the occurrences of each purchase method by gender\n",
    "purchase_method_by_gender = pd.crosstab(salesdf['gender'], salesdf['purchaseMethod'])\n",
    "\n",
    "# Remove the index name\n",
    "purchase_method_by_gender.index.name = \"Gender\"\n",
    "\n",
    "print(purchase_method_by_gender)"
   ]
  },
  {
   "cell_type": "code",
   "execution_count": 55,
   "metadata": {},
   "outputs": [
    {
     "name": "stdout",
     "output_type": "stream",
     "text": [
      "purchaseMethod  In store  Online\n",
      "Gender (M/F)                    \n",
      "Female              8062    4270\n",
      "Male                7571    4314\n"
     ]
    }
   ],
   "source": [
    "# Replace 'F' with 'Female' and 'M' with 'Male' in the index (gender labels)\n",
    "purchase_method_by_gender = purchase_method_by_gender.rename(index={'F': 'Female', 'M': 'Male'})\n",
    "\n",
    "# Drop the 'Phone' column\n",
    "purchase_method_by_gender = purchase_method_by_gender.drop(columns='Phone')\n",
    "\n",
    "purchase_method_by_gender.index.name = 'Gender (M/F)'\n",
    "\n",
    "print(purchase_method_by_gender)\n"
   ]
  },
  {
   "cell_type": "markdown",
   "metadata": {},
   "source": [
    "### Query 5: Show monthly total sales"
   ]
  },
  {
   "cell_type": "markdown",
   "metadata": {},
   "source": [
    "Since 'saleDate' is stored as a dictionary with a key '$date' within each row, we need to access the # value of '$date' and convert it to a datetime object"
   ]
  },
  {
   "cell_type": "code",
   "execution_count": 56,
   "metadata": {},
   "outputs": [],
   "source": [
    "# Extract the # value of '$date' from the 'saleDate' dictionaries, which are nested within each row. \n",
    "# Access the '$date' value within these dictionaries as follows:\n",
    "\n",
    "def extract_date_date(d):\n",
    "    return pd.to_datetime(d['$date'])\n",
    "\n",
    "salesdf['sales_date'] = salesdf['saleDate'].apply(extract_date_date)"
   ]
  },
  {
   "cell_type": "code",
   "execution_count": 57,
   "metadata": {},
   "outputs": [
    {
     "data": {
      "text/plain": [
       "Index(['_id', 'saleDate', 'items', 'storeLocation', 'customer', 'couponUsed',\n",
       "       'purchaseMethod', 'product_name', 'sales', 'gender', 'sales_date'],\n",
       "      dtype='object')"
      ]
     },
     "execution_count": 57,
     "metadata": {},
     "output_type": "execute_result"
    }
   ],
   "source": [
    "salesdf.columns"
   ]
  },
  {
   "cell_type": "code",
   "execution_count": 58,
   "metadata": {},
   "outputs": [
    {
     "data": {
      "text/html": [
       "<div>\n",
       "<style scoped>\n",
       "    .dataframe tbody tr th:only-of-type {\n",
       "        vertical-align: middle;\n",
       "    }\n",
       "\n",
       "    .dataframe tbody tr th {\n",
       "        vertical-align: top;\n",
       "    }\n",
       "\n",
       "    .dataframe thead th {\n",
       "        text-align: right;\n",
       "    }\n",
       "</style>\n",
       "<table border=\"1\" class=\"dataframe\">\n",
       "  <thead>\n",
       "    <tr style=\"text-align: right;\">\n",
       "      <th></th>\n",
       "      <th>_id</th>\n",
       "      <th>saleDate</th>\n",
       "      <th>items</th>\n",
       "      <th>storeLocation</th>\n",
       "      <th>customer</th>\n",
       "      <th>couponUsed</th>\n",
       "      <th>purchaseMethod</th>\n",
       "      <th>product_name</th>\n",
       "      <th>sales</th>\n",
       "      <th>gender</th>\n",
       "      <th>sales_date</th>\n",
       "    </tr>\n",
       "  </thead>\n",
       "  <tbody>\n",
       "    <tr>\n",
       "      <th>0</th>\n",
       "      <td>{'$oid': '5bd761dcae323e45a93ccff7'}</td>\n",
       "      <td>{'$date': '2017-12-08T21:40:34.527Z'}</td>\n",
       "      <td>{'name': 'laptop', 'tags': ['electronics', 'sc...</td>\n",
       "      <td>Denver</td>\n",
       "      <td>{'gender': 'M', 'age': 28, 'email': 'fapra@rut...</td>\n",
       "      <td>False</td>\n",
       "      <td>Phone</td>\n",
       "      <td>laptop</td>\n",
       "      <td>1613.68</td>\n",
       "      <td>M</td>\n",
       "      <td>2017-12-08 21:40:34.527000+00:00</td>\n",
       "    </tr>\n",
       "    <tr>\n",
       "      <th>0</th>\n",
       "      <td>{'$oid': '5bd761dcae323e45a93ccff7'}</td>\n",
       "      <td>{'$date': '2017-12-08T21:40:34.527Z'}</td>\n",
       "      <td>{'name': 'envelopes', 'tags': ['stationary', '...</td>\n",
       "      <td>Denver</td>\n",
       "      <td>{'gender': 'M', 'age': 28, 'email': 'fapra@rut...</td>\n",
       "      <td>False</td>\n",
       "      <td>Phone</td>\n",
       "      <td>envelopes</td>\n",
       "      <td>74.41</td>\n",
       "      <td>M</td>\n",
       "      <td>2017-12-08 21:40:34.527000+00:00</td>\n",
       "    </tr>\n",
       "    <tr>\n",
       "      <th>0</th>\n",
       "      <td>{'$oid': '5bd761dcae323e45a93ccff7'}</td>\n",
       "      <td>{'$date': '2017-12-08T21:40:34.527Z'}</td>\n",
       "      <td>{'name': 'printer paper', 'tags': ['office', '...</td>\n",
       "      <td>Denver</td>\n",
       "      <td>{'gender': 'M', 'age': 28, 'email': 'fapra@rut...</td>\n",
       "      <td>False</td>\n",
       "      <td>Phone</td>\n",
       "      <td>printer paper</td>\n",
       "      <td>383.70</td>\n",
       "      <td>M</td>\n",
       "      <td>2017-12-08 21:40:34.527000+00:00</td>\n",
       "    </tr>\n",
       "    <tr>\n",
       "      <th>1</th>\n",
       "      <td>{'$oid': '5bd761dcae323e45a93cd000'}</td>\n",
       "      <td>{'$date': '2015-05-15T13:43:24.561Z'}</td>\n",
       "      <td>{'name': 'printer paper', 'tags': ['office', '...</td>\n",
       "      <td>London</td>\n",
       "      <td>{'gender': 'F', 'age': 27, 'email': 'zu@bainku...</td>\n",
       "      <td>False</td>\n",
       "      <td>Online</td>\n",
       "      <td>printer paper</td>\n",
       "      <td>431.55</td>\n",
       "      <td>F</td>\n",
       "      <td>2015-05-15 13:43:24.561000+00:00</td>\n",
       "    </tr>\n",
       "    <tr>\n",
       "      <th>1</th>\n",
       "      <td>{'$oid': '5bd761dcae323e45a93cd000'}</td>\n",
       "      <td>{'$date': '2015-05-15T13:43:24.561Z'}</td>\n",
       "      <td>{'name': 'notepad', 'tags': ['office', 'writin...</td>\n",
       "      <td>London</td>\n",
       "      <td>{'gender': 'F', 'age': 27, 'email': 'zu@bainku...</td>\n",
       "      <td>False</td>\n",
       "      <td>Online</td>\n",
       "      <td>notepad</td>\n",
       "      <td>141.08</td>\n",
       "      <td>F</td>\n",
       "      <td>2015-05-15 13:43:24.561000+00:00</td>\n",
       "    </tr>\n",
       "  </tbody>\n",
       "</table>\n",
       "</div>"
      ],
      "text/plain": [
       "                                    _id  \\\n",
       "0  {'$oid': '5bd761dcae323e45a93ccff7'}   \n",
       "0  {'$oid': '5bd761dcae323e45a93ccff7'}   \n",
       "0  {'$oid': '5bd761dcae323e45a93ccff7'}   \n",
       "1  {'$oid': '5bd761dcae323e45a93cd000'}   \n",
       "1  {'$oid': '5bd761dcae323e45a93cd000'}   \n",
       "\n",
       "                                saleDate  \\\n",
       "0  {'$date': '2017-12-08T21:40:34.527Z'}   \n",
       "0  {'$date': '2017-12-08T21:40:34.527Z'}   \n",
       "0  {'$date': '2017-12-08T21:40:34.527Z'}   \n",
       "1  {'$date': '2015-05-15T13:43:24.561Z'}   \n",
       "1  {'$date': '2015-05-15T13:43:24.561Z'}   \n",
       "\n",
       "                                               items storeLocation  \\\n",
       "0  {'name': 'laptop', 'tags': ['electronics', 'sc...        Denver   \n",
       "0  {'name': 'envelopes', 'tags': ['stationary', '...        Denver   \n",
       "0  {'name': 'printer paper', 'tags': ['office', '...        Denver   \n",
       "1  {'name': 'printer paper', 'tags': ['office', '...        London   \n",
       "1  {'name': 'notepad', 'tags': ['office', 'writin...        London   \n",
       "\n",
       "                                            customer  couponUsed  \\\n",
       "0  {'gender': 'M', 'age': 28, 'email': 'fapra@rut...       False   \n",
       "0  {'gender': 'M', 'age': 28, 'email': 'fapra@rut...       False   \n",
       "0  {'gender': 'M', 'age': 28, 'email': 'fapra@rut...       False   \n",
       "1  {'gender': 'F', 'age': 27, 'email': 'zu@bainku...       False   \n",
       "1  {'gender': 'F', 'age': 27, 'email': 'zu@bainku...       False   \n",
       "\n",
       "  purchaseMethod   product_name    sales gender  \\\n",
       "0          Phone         laptop  1613.68      M   \n",
       "0          Phone      envelopes    74.41      M   \n",
       "0          Phone  printer paper   383.70      M   \n",
       "1         Online  printer paper   431.55      F   \n",
       "1         Online        notepad   141.08      F   \n",
       "\n",
       "                        sales_date  \n",
       "0 2017-12-08 21:40:34.527000+00:00  \n",
       "0 2017-12-08 21:40:34.527000+00:00  \n",
       "0 2017-12-08 21:40:34.527000+00:00  \n",
       "1 2015-05-15 13:43:24.561000+00:00  \n",
       "1 2015-05-15 13:43:24.561000+00:00  "
      ]
     },
     "execution_count": 58,
     "metadata": {},
     "output_type": "execute_result"
    }
   ],
   "source": [
    "salesdf.head()"
   ]
  },
  {
   "cell_type": "code",
   "execution_count": 59,
   "metadata": {},
   "outputs": [
    {
     "name": "stdout",
     "output_type": "stream",
     "text": [
      "   Year-Month  Total Sales\n",
      "0     2013-01    196043.76\n",
      "1     2013-02    147622.59\n",
      "2     2013-03    140700.06\n",
      "3     2013-04    162336.67\n",
      "4     2013-05    179143.37\n",
      "5     2013-06    142132.02\n",
      "6     2013-07    176298.23\n",
      "7     2013-08    130977.22\n",
      "8     2013-09    137871.99\n",
      "9     2013-10    173126.73\n",
      "10    2013-11    148358.38\n",
      "11    2013-12    174306.96\n",
      "12    2014-01    125824.02\n",
      "13    2014-02    141174.41\n",
      "14    2014-03    193413.50\n",
      "15    2014-04    132593.08\n",
      "16    2014-05    166896.80\n",
      "17    2014-06    143304.56\n",
      "18    2014-07    184804.60\n",
      "19    2014-08    167979.81\n",
      "20    2014-09    159802.92\n",
      "21    2014-10    149284.84\n",
      "22    2014-11    180564.85\n",
      "23    2014-12    139466.83\n",
      "24    2015-01    222577.01\n",
      "25    2015-02    189776.15\n",
      "26    2015-03    178086.94\n",
      "27    2015-04    132298.50\n",
      "28    2015-05    167482.69\n",
      "29    2015-06    149484.34\n",
      "30    2015-07    149510.47\n",
      "31    2015-08    154868.63\n",
      "32    2015-09    135615.80\n",
      "33    2015-10    175215.34\n",
      "34    2015-11    158390.42\n",
      "35    2015-12    166565.02\n",
      "36    2016-01    166558.93\n",
      "37    2016-02    120783.52\n",
      "38    2016-03    193185.17\n",
      "39    2016-04    137340.27\n",
      "40    2016-05    162966.06\n",
      "41    2016-06    132942.54\n",
      "42    2016-07    180331.10\n",
      "43    2016-08    164555.33\n",
      "44    2016-09    138299.53\n",
      "45    2016-10    151698.93\n",
      "46    2016-11    170758.41\n",
      "47    2016-12    215400.07\n",
      "48    2017-01    207037.75\n",
      "49    2017-02    134527.54\n",
      "50    2017-03    162351.15\n",
      "51    2017-04    191990.94\n",
      "52    2017-05    202403.85\n",
      "53    2017-06    201552.55\n",
      "54    2017-07    156106.90\n",
      "55    2017-08    173196.13\n",
      "56    2017-09    186976.26\n",
      "57    2017-10    191681.25\n",
      "58    2017-11    202330.86\n",
      "59    2017-12    175697.72\n"
     ]
    },
    {
     "name": "stderr",
     "output_type": "stream",
     "text": [
      "C:\\Users\\Lyann Thit Nyi Nyi\\AppData\\Local\\Temp\\ipykernel_31648\\2663829891.py:2: UserWarning: Converting to PeriodArray/Index representation will drop timezone information.\n",
      "  salesdf['year_month'] = salesdf['sales_date'].dt.to_period('M')\n"
     ]
    }
   ],
   "source": [
    "# Extract the month and year from the 'sales_date' and create a new column\n",
    "salesdf['year_month'] = salesdf['sales_date'].dt.to_period('M')\n",
    "\n",
    "# Group by 'year_month' and sum the sales for each month\n",
    "monthly_total_sales = salesdf.groupby('year_month')['sales'].sum().reset_index()\n",
    "\n",
    "# Rename the columns for clarity\n",
    "monthly_total_sales.columns = ['Year-Month', 'Total Sales']\n",
    "\n",
    "print(monthly_total_sales)\n"
   ]
  },
  {
   "cell_type": "markdown",
   "metadata": {},
   "source": [
    "## Final Report Article"
   ]
  },
  {
   "cell_type": "markdown",
   "metadata": {},
   "source": [
    "### Some more Exploratory Data Analysis"
   ]
  },
  {
   "cell_type": "markdown",
   "metadata": {},
   "source": [
    "#### Unique Tags"
   ]
  },
  {
   "cell_type": "code",
   "execution_count": 60,
   "metadata": {},
   "outputs": [],
   "source": [
    "unique_tags = set()\n",
    "\n",
    "for tags_list in salesdf['items'].apply(lambda x: x.get('tags', [])):\n",
    "    unique_tags.update(tags_list)"
   ]
  },
  {
   "cell_type": "code",
   "execution_count": 61,
   "metadata": {},
   "outputs": [
    {
     "ename": "NameError",
     "evalue": "name 'unique_tags_list' is not defined",
     "output_type": "error",
     "traceback": [
      "\u001b[1;31m---------------------------------------------------------------------------\u001b[0m",
      "\u001b[1;31mNameError\u001b[0m                                 Traceback (most recent call last)",
      "\u001b[1;32md:\\School work\\Year 3\\Big Data Analytics\\Finals Project\\mogodb_sample_supplies.ipynb Cell 37\u001b[0m line \u001b[0;36m1\n\u001b[1;32m----> <a href='vscode-notebook-cell:/d%3A/School%20work/Year%203/Big%20Data%20Analytics/Finals%20Project/mogodb_sample_supplies.ipynb#X51sZmlsZQ%3D%3D?line=0'>1</a>\u001b[0m unique_tags_list\n",
      "\u001b[1;31mNameError\u001b[0m: name 'unique_tags_list' is not defined"
     ]
    }
   ],
   "source": [
    "unique_tags_list"
   ]
  },
  {
   "cell_type": "markdown",
   "metadata": {},
   "source": [
    "#### Monthly sales visualzied"
   ]
  },
  {
   "cell_type": "code",
   "execution_count": null,
   "metadata": {},
   "outputs": [
    {
     "data": {
      "image/png": "[encoded data removed]",
      "text/plain": [
       "<Figure size 1200x600 with 1 Axes>"
      ]
     },
     "metadata": {},
     "output_type": "display_data"
    }
   ],
   "source": [
    "import matplotlib.pyplot as plt\n",
    "\n",
    "# Convert 'Year-Month' to strings\n",
    "monthly_total_sales['Year-Month'] = monthly_total_sales['Year-Month'].astype(str)\n",
    "\n",
    "# Create the plot\n",
    "plt.figure(figsize=(12, 6))\n",
    "plt.plot(monthly_total_sales['Year-Month'], monthly_total_sales['Total Sales'], marker='o', linestyle='-')\n",
    "plt.title('Monthly Total Sales')\n",
    "plt.xlabel('Year-Month')\n",
    "plt.ylabel('Total Sales')\n",
    "plt.xticks(rotation=45)  # Rotate x-axis labels for readability\n",
    "plt.show()\n"
   ]
  },
  {
   "cell_type": "code",
   "execution_count": null,
   "metadata": {},
   "outputs": [
    {
     "data": {
      "image/png": "[encoded data removed]",
      "text/plain": [
       "<Figure size 1200x600 with 1 Axes>"
      ]
     },
     "metadata": {},
     "output_type": "display_data"
    }
   ],
   "source": [
    "# Create the plot\n",
    "plt.figure(figsize=(12, 6))\n",
    "plt.plot(monthly_total_sales['Year-Month'][::4], monthly_total_sales['Total Sales'][::4], marker='o', linestyle='-')\n",
    "plt.title('Total Sales (Every Four Months)')\n",
    "plt.xlabel('Year-Month')\n",
    "plt.ylabel('Total Sales')\n",
    "plt.xticks(rotation=45)  # Rotate x-axis labels for readability\n",
    "plt.show()"
   ]
  },
  {
   "cell_type": "markdown",
   "metadata": {},
   "source": [
    "### Report"
   ]
  },
  {
   "cell_type": "markdown",
   "metadata": {},
   "source": [
    "The sales data reveals a story of consumer behavior and trends that can guide business decisions. The products being sold seem to be aimed towards educational and office purposes. Upon closer inspection of the product tags, we can see that most of the products sold fall under the categories general, school, stationary, office, electronics, kids, writing, travel, and organization. \n",
    "\n",
    "The top 5 most sold products, based on count, are notepads, binders, pens, envelopes, backpacks, laptops, and printer paper. Based on the insight, we can confidently concluded that the primary customers are based around students and offices.\n",
    "\n",
    "Another useful insight that we have found that is that the top 3 products being sold, by each individual store, is the same across all locations,including Austin, Denver, London, New York, San Diego, and Seattle. Laptops, backpacks, and pens dominate the sales charts, with laptops being the highest in sales volume. \n",
    "\n",
    "I wanted to dig deeper into the store locations. And so, I performed some deeper analysis into the location of the store, to see if there exists any patterns in customer purchasing behavior. Denver ranked the highest with sales netting precisely 2,921,009.92 followed by Seattle at 2255947.69 and London at 1583066.79. The lowest sales being in San Diego with a net sales of just 672,885.17. To understand these variations better, more details on the information of each country, such as population and demographics, would be necessary.\n",
    "\n",
    "Another interesting factor that I considered notable is the purchased method by gender. From my analysis, we can observe that in-store purchases were more frequent than online purchases which seemed odd. One possible hypothesis could be that, of all the customers, students and office employees are more inclined towards making purchases on-site so that they could try out the products such as pens, laptops, and backpacks before making a purchase.\n",
    "\n",
    "Last but not least, I have also tracked the total monthly sales. Upon visualizing the sales, it can be observed that there is no apparent seasonal trend. A graph plotting for every 4 months is also provided to be able to further observe clearer, but still, no trend exists. However, one clueful insight is that the highest sales occur on the months of January, specifically in the years 2013, 2015, and 2017. One possible conclusion could be that it is due to new years. It can be assumed that parents and students purchase new items such as backpacks and laptops for a new fresh academic year, possibly even purchasing pens and binders on some level bulk. Another plausible explanation is that offices often fully restock their items or purchase entirely new supplies every 2 years to maintain its integrity in the workplace. \n",
    "\n",
    "In a nutshell, my data analysis reveals that students and office workers are, very likely, the main customers. The top-selling products are consistent across locations while there are high variations in net sales among different cities. Moreover, people prefer in-store shopping despite the online shopping services being provided. While there's no clear seasonal trend, a January sales spike aligns with back-to-school and office restocking. This analysis has overall highlighted the importance of using data to understand customer behavior and improve business strategies.\n"
   ]
  }
 ],
 "metadata": {
  "kernelspec": {
   "display_name": "Python 3",
   "language": "python",
   "name": "python3"
  },
  "language_info": {
   "codemirror_mode": {
    "name": "ipython",
    "version": 3
   },
   "file_extension": ".py",
   "mimetype": "text/x-python",
   "name": "python",
   "nbconvert_exporter": "python",
   "pygments_lexer": "ipython3",
   "version": "3.11.1"
  }
 },
 "nbformat": 4,
 "nbformat_minor": 2
}
