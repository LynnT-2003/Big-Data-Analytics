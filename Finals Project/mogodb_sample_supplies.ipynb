{
 "cells": [
  {
   "cell_type": "code",
   "execution_count": 22,
   "metadata": {},
   "outputs": [],
   "source": [
    "import pandas as pd\n",
    "\n",
    "# Load the JSON file into a Pandas DataFrame\n",
    "salesdf = pd.read_json('mongodb_sample_supplies.json', lines=True)"
   ]
  },
  {
   "cell_type": "code",
   "execution_count": 23,
   "metadata": {},
   "outputs": [
    {
     "data": {
      "text/html": [
       "<div>\n",
       "<style scoped>\n",
       "    .dataframe tbody tr th:only-of-type {\n",
       "        vertical-align: middle;\n",
       "    }\n",
       "\n",
       "    .dataframe tbody tr th {\n",
       "        vertical-align: top;\n",
       "    }\n",
       "\n",
       "    .dataframe thead th {\n",
       "        text-align: right;\n",
       "    }\n",
       "</style>\n",
       "<table border=\"1\" class=\"dataframe\">\n",
       "  <thead>\n",
       "    <tr style=\"text-align: right;\">\n",
       "      <th></th>\n",
       "      <th>_id</th>\n",
       "      <th>saleDate</th>\n",
       "      <th>items</th>\n",
       "      <th>storeLocation</th>\n",
       "      <th>customer</th>\n",
       "      <th>couponUsed</th>\n",
       "      <th>purchaseMethod</th>\n",
       "    </tr>\n",
       "  </thead>\n",
       "  <tbody>\n",
       "    <tr>\n",
       "      <th>0</th>\n",
       "      <td>{'$oid': '5bd761dcae323e45a93ccff7'}</td>\n",
       "      <td>{'$date': '2017-12-08T21:40:34.527Z'}</td>\n",
       "      <td>[{'name': 'laptop', 'tags': ['electronics', 's...</td>\n",
       "      <td>Denver</td>\n",
       "      <td>{'gender': 'M', 'age': 28, 'email': 'fapra@rut...</td>\n",
       "      <td>False</td>\n",
       "      <td>Phone</td>\n",
       "    </tr>\n",
       "    <tr>\n",
       "      <th>1</th>\n",
       "      <td>{'$oid': '5bd761dcae323e45a93cd000'}</td>\n",
       "      <td>{'$date': '2015-05-15T13:43:24.561Z'}</td>\n",
       "      <td>[{'name': 'printer paper', 'tags': ['office', ...</td>\n",
       "      <td>London</td>\n",
       "      <td>{'gender': 'F', 'age': 27, 'email': 'zu@bainku...</td>\n",
       "      <td>False</td>\n",
       "      <td>Online</td>\n",
       "    </tr>\n",
       "    <tr>\n",
       "      <th>2</th>\n",
       "      <td>{'$oid': '5bd761dcae323e45a93ccfeb'}</td>\n",
       "      <td>{'$date': '2015-02-23T09:53:59.343Z'}</td>\n",
       "      <td>[{'name': 'binder', 'tags': ['school', 'genera...</td>\n",
       "      <td>Seattle</td>\n",
       "      <td>{'gender': 'F', 'age': 45, 'email': 'vatires@t...</td>\n",
       "      <td>False</td>\n",
       "      <td>In store</td>\n",
       "    </tr>\n",
       "    <tr>\n",
       "      <th>3</th>\n",
       "      <td>{'$oid': '5bd761dcae323e45a93ccfe8'}</td>\n",
       "      <td>{'$date': '2015-03-23T21:06:49.506Z'}</td>\n",
       "      <td>[{'name': 'printer paper', 'tags': ['office', ...</td>\n",
       "      <td>Denver</td>\n",
       "      <td>{'gender': 'M', 'age': 42, 'email': 'cauho@wit...</td>\n",
       "      <td>True</td>\n",
       "      <td>Online</td>\n",
       "    </tr>\n",
       "    <tr>\n",
       "      <th>4</th>\n",
       "      <td>{'$oid': '5bd761dcae323e45a93ccfe9'}</td>\n",
       "      <td>{'$date': '2015-08-25T10:01:02.918Z'}</td>\n",
       "      <td>[{'name': 'envelopes', 'tags': ['stationary', ...</td>\n",
       "      <td>Seattle</td>\n",
       "      <td>{'gender': 'M', 'age': 50, 'email': 'keecade@h...</td>\n",
       "      <td>False</td>\n",
       "      <td>Phone</td>\n",
       "    </tr>\n",
       "  </tbody>\n",
       "</table>\n",
       "</div>"
      ],
      "text/plain": [
       "                                    _id  \\\n",
       "0  {'$oid': '5bd761dcae323e45a93ccff7'}   \n",
       "1  {'$oid': '5bd761dcae323e45a93cd000'}   \n",
       "2  {'$oid': '5bd761dcae323e45a93ccfeb'}   \n",
       "3  {'$oid': '5bd761dcae323e45a93ccfe8'}   \n",
       "4  {'$oid': '5bd761dcae323e45a93ccfe9'}   \n",
       "\n",
       "                                saleDate  \\\n",
       "0  {'$date': '2017-12-08T21:40:34.527Z'}   \n",
       "1  {'$date': '2015-05-15T13:43:24.561Z'}   \n",
       "2  {'$date': '2015-02-23T09:53:59.343Z'}   \n",
       "3  {'$date': '2015-03-23T21:06:49.506Z'}   \n",
       "4  {'$date': '2015-08-25T10:01:02.918Z'}   \n",
       "\n",
       "                                               items storeLocation  \\\n",
       "0  [{'name': 'laptop', 'tags': ['electronics', 's...        Denver   \n",
       "1  [{'name': 'printer paper', 'tags': ['office', ...        London   \n",
       "2  [{'name': 'binder', 'tags': ['school', 'genera...       Seattle   \n",
       "3  [{'name': 'printer paper', 'tags': ['office', ...        Denver   \n",
       "4  [{'name': 'envelopes', 'tags': ['stationary', ...       Seattle   \n",
       "\n",
       "                                            customer  couponUsed  \\\n",
       "0  {'gender': 'M', 'age': 28, 'email': 'fapra@rut...       False   \n",
       "1  {'gender': 'F', 'age': 27, 'email': 'zu@bainku...       False   \n",
       "2  {'gender': 'F', 'age': 45, 'email': 'vatires@t...       False   \n",
       "3  {'gender': 'M', 'age': 42, 'email': 'cauho@wit...        True   \n",
       "4  {'gender': 'M', 'age': 50, 'email': 'keecade@h...       False   \n",
       "\n",
       "  purchaseMethod  \n",
       "0          Phone  \n",
       "1         Online  \n",
       "2       In store  \n",
       "3         Online  \n",
       "4          Phone  "
      ]
     },
     "execution_count": 23,
     "metadata": {},
     "output_type": "execute_result"
    }
   ],
   "source": [
    "salesdf.head()"
   ]
  },
  {
   "cell_type": "code",
   "execution_count": 24,
   "metadata": {},
   "outputs": [
    {
     "name": "stdout",
     "output_type": "stream",
     "text": [
      "    Product Name  Count\n",
      "0        notepad   6872\n",
      "1         binder   4676\n",
      "2           pens   4559\n",
      "3      envelopes   4505\n",
      "4       backpack   2309\n",
      "5         laptop   2271\n",
      "6  printer paper   2246\n"
     ]
    }
   ],
   "source": [
    "#Flatten the 'items' column into individual rows\n",
    "salesdf = salesdf.explode('items')\n",
    "\n",
    "# Get the product name from 'items' dictionary\n",
    "salesdf['product_name'] = salesdf['items'].apply(lambda x: x['name'])\n",
    "\n",
    "# Group by product name and count the occurrences\n",
    "top_products = salesdf['product_name'].value_counts().nlargest(10).reset_index()\n",
    "\n",
    "# Rename the columns for clarity\n",
    "top_products.columns = ['Product Name', 'Count']\n",
    "\n",
    "print(top_products)\n"
   ]
  },
  {
   "cell_type": "code",
   "execution_count": 28,
   "metadata": {},
   "outputs": [
    {
     "name": "stdout",
     "output_type": "stream",
     "text": [
      "   storeLocation     items       sales  rank\n",
      "0         Austin  backpack   115217.59   2.0\n",
      "3         Austin    laptop  1018494.05   1.0\n",
      "5         Austin      pens    74622.52   3.0\n",
      "7         Denver  backpack   245679.34   2.0\n",
      "10        Denver    laptop  1961659.25   1.0\n",
      "12        Denver      pens   185008.39   3.0\n",
      "14        London  backpack   144529.14   2.0\n",
      "17        London    laptop  1073098.72   1.0\n",
      "19        London      pens    92602.30   3.0\n",
      "21      New York  backpack    82563.14   2.0\n",
      "24      New York    laptop   694613.32   1.0\n",
      "26      New York      pens    64029.90   3.0\n",
      "28     San Diego  backpack    50997.42   2.0\n",
      "31     San Diego    laptop   462973.58   1.0\n",
      "33     San Diego      pens    42134.55   3.0\n",
      "35       Seattle  backpack   178387.47   2.0\n",
      "38       Seattle    laptop  1565138.15   1.0\n",
      "40       Seattle      pens   123445.61   3.0\n"
     ]
    }
   ],
   "source": [
    "# Calculate the sales (quantity x price) for each product\n",
    "salesdf['sales'] = salesdf['items'].apply(lambda x: x['quantity'] * float(x['price']['$numberDecimal']))\n",
    "\n",
    "# Group by store location and product name, and sum the sales\n",
    "top_3_products_by_store = salesdf.groupby(['storeLocation', salesdf['items'].apply(lambda x: x['name'])])['sales'].sum().reset_index()\n",
    "\n",
    "# Rank the products by sales for each store location\n",
    "top_3_products_by_store['rank'] = top_3_products_by_store.groupby('storeLocation')['sales'].rank(ascending=False, method='min')\n",
    "\n",
    "# Filter the top 3 products for each store location\n",
    "top_3_products_by_store = top_3_products_by_store[top_3_products_by_store['rank'] <= 3]\n",
    "\n",
    "print(top_3_products_by_store)\n"
   ]
  },
  {
   "cell_type": "code",
   "execution_count": 32,
   "metadata": {},
   "outputs": [
    {
     "name": "stdout",
     "output_type": "stream",
     "text": [
      "  storeLocation       sales  rank\n",
      "1        Denver  2921009.92   1.0\n",
      "5       Seattle  2255947.69   2.0\n",
      "2        London  1583066.79   3.0\n",
      "0        Austin  1445603.11   4.0\n",
      "3      New York  1016059.59   5.0\n",
      "4     San Diego   672885.17   6.0\n"
     ]
    }
   ],
   "source": [
    "import pandas as pd\n",
    "\n",
    "# Load the JSON file into a Pandas DataFrame\n",
    "salesdf = pd.read_json('mongodb_sample_supplies.json', lines=True)\n",
    "\n",
    "# Flatten the 'items' column into individual rows\n",
    "salesdf = salesdf.explode('items')\n",
    "\n",
    "# Define a custom lambda function to calculate sales\n",
    "def calculate_sales(item):\n",
    "    price = float(item['price']['$numberDecimal'])\n",
    "    return item['quantity'] * price\n",
    "\n",
    "# Apply the custom lambda function to calculate sales\n",
    "salesdf['sales'] = salesdf['items'].apply(calculate_sales)\n",
    "\n",
    "# Group by store location and sum the sales for each location\n",
    "store_rankings = salesdf.groupby('storeLocation')['sales'].sum().reset_index()\n",
    "\n",
    "# Rank the store locations by sales\n",
    "store_rankings['rank'] = store_rankings['sales'].rank(ascending=False, method='min')\n",
    "\n",
    "# Sort the store rankings by rank\n",
    "store_rankings = store_rankings.sort_values(by='rank')\n",
    "\n",
    "print(store_rankings)\n"
   ]
  },
  {
   "cell_type": "code",
   "execution_count": 42,
   "metadata": {},
   "outputs": [
    {
     "name": "stdout",
     "output_type": "stream",
     "text": [
      "Index(['_id', 'saleDate', 'items', 'storeLocation', 'customer', 'couponUsed',\n",
      "       'purchaseMethod', 'sales'],\n",
      "      dtype='object')\n"
     ]
    }
   ],
   "source": [
    "print(salesdf.columns)"
   ]
  },
  {
   "cell_type": "code",
   "execution_count": 64,
   "metadata": {},
   "outputs": [
    {
     "ename": "KeyError",
     "evalue": "\"['purchaseMethod'] not found in axis\"",
     "output_type": "error",
     "traceback": [
      "\u001b[1;31m---------------------------------------------------------------------------\u001b[0m",
      "\u001b[1;31mKeyError\u001b[0m                                  Traceback (most recent call last)",
      "\u001b[1;32md:\\School work\\Year 3\\Big Data Analytics\\Finals Project\\mogodb_sample_supplies.ipynb Cell 7\u001b[0m line \u001b[0;36m1\n\u001b[0;32m      <a href='vscode-notebook-cell:/d%3A/School%20work/Year%203/Big%20Data%20Analytics/Finals%20Project/mogodb_sample_supplies.ipynb#X11sZmlsZQ%3D%3D?line=7'>8</a>\u001b[0m purchase_method_by_gender \u001b[39m=\u001b[39m purchase_method_by_gender\u001b[39m.\u001b[39mreset_index()\n\u001b[0;32m     <a href='vscode-notebook-cell:/d%3A/School%20work/Year%203/Big%20Data%20Analytics/Finals%20Project/mogodb_sample_supplies.ipynb#X11sZmlsZQ%3D%3D?line=9'>10</a>\u001b[0m \u001b[39m# Remove the 'purchaseMethod' column\u001b[39;00m\n\u001b[1;32m---> <a href='vscode-notebook-cell:/d%3A/School%20work/Year%203/Big%20Data%20Analytics/Finals%20Project/mogodb_sample_supplies.ipynb#X11sZmlsZQ%3D%3D?line=10'>11</a>\u001b[0m purchase_method_by_gender \u001b[39m=\u001b[39m purchase_method_by_gender\u001b[39m.\u001b[39;49mdrop(\u001b[39m'\u001b[39;49m\u001b[39mpurchaseMethod\u001b[39;49m\u001b[39m'\u001b[39;49m, axis\u001b[39m=\u001b[39;49m\u001b[39m1\u001b[39;49m)\n\u001b[0;32m     <a href='vscode-notebook-cell:/d%3A/School%20work/Year%203/Big%20Data%20Analytics/Finals%20Project/mogodb_sample_supplies.ipynb#X11sZmlsZQ%3D%3D?line=12'>13</a>\u001b[0m \u001b[39mprint\u001b[39m(purchase_method_by_gender)\n",
      "File \u001b[1;32mc:\\Users\\Lyann Thit Nyi Nyi\\AppData\\Local\\Programs\\Python\\Python311\\Lib\\site-packages\\pandas\\core\\frame.py:5347\u001b[0m, in \u001b[0;36mDataFrame.drop\u001b[1;34m(self, labels, axis, index, columns, level, inplace, errors)\u001b[0m\n\u001b[0;32m   5199\u001b[0m \u001b[39mdef\u001b[39;00m \u001b[39mdrop\u001b[39m(\n\u001b[0;32m   5200\u001b[0m     \u001b[39mself\u001b[39m,\n\u001b[0;32m   5201\u001b[0m     labels: IndexLabel \u001b[39m|\u001b[39m \u001b[39mNone\u001b[39;00m \u001b[39m=\u001b[39m \u001b[39mNone\u001b[39;00m,\n\u001b[1;32m   (...)\u001b[0m\n\u001b[0;32m   5208\u001b[0m     errors: IgnoreRaise \u001b[39m=\u001b[39m \u001b[39m\"\u001b[39m\u001b[39mraise\u001b[39m\u001b[39m\"\u001b[39m,\n\u001b[0;32m   5209\u001b[0m ) \u001b[39m-\u001b[39m\u001b[39m>\u001b[39m DataFrame \u001b[39m|\u001b[39m \u001b[39mNone\u001b[39;00m:\n\u001b[0;32m   5210\u001b[0m \u001b[39m    \u001b[39m\u001b[39m\"\"\"\u001b[39;00m\n\u001b[0;32m   5211\u001b[0m \u001b[39m    Drop specified labels from rows or columns.\u001b[39;00m\n\u001b[0;32m   5212\u001b[0m \n\u001b[1;32m   (...)\u001b[0m\n\u001b[0;32m   5345\u001b[0m \u001b[39m            weight  1.0     0.8\u001b[39;00m\n\u001b[0;32m   5346\u001b[0m \u001b[39m    \"\"\"\u001b[39;00m\n\u001b[1;32m-> 5347\u001b[0m     \u001b[39mreturn\u001b[39;00m \u001b[39msuper\u001b[39;49m()\u001b[39m.\u001b[39;49mdrop(\n\u001b[0;32m   5348\u001b[0m         labels\u001b[39m=\u001b[39;49mlabels,\n\u001b[0;32m   5349\u001b[0m         axis\u001b[39m=\u001b[39;49maxis,\n\u001b[0;32m   5350\u001b[0m         index\u001b[39m=\u001b[39;49mindex,\n\u001b[0;32m   5351\u001b[0m         columns\u001b[39m=\u001b[39;49mcolumns,\n\u001b[0;32m   5352\u001b[0m         level\u001b[39m=\u001b[39;49mlevel,\n\u001b[0;32m   5353\u001b[0m         inplace\u001b[39m=\u001b[39;49minplace,\n\u001b[0;32m   5354\u001b[0m         errors\u001b[39m=\u001b[39;49merrors,\n\u001b[0;32m   5355\u001b[0m     )\n",
      "File \u001b[1;32mc:\\Users\\Lyann Thit Nyi Nyi\\AppData\\Local\\Programs\\Python\\Python311\\Lib\\site-packages\\pandas\\core\\generic.py:4711\u001b[0m, in \u001b[0;36mNDFrame.drop\u001b[1;34m(self, labels, axis, index, columns, level, inplace, errors)\u001b[0m\n\u001b[0;32m   4709\u001b[0m \u001b[39mfor\u001b[39;00m axis, labels \u001b[39min\u001b[39;00m axes\u001b[39m.\u001b[39mitems():\n\u001b[0;32m   4710\u001b[0m     \u001b[39mif\u001b[39;00m labels \u001b[39mis\u001b[39;00m \u001b[39mnot\u001b[39;00m \u001b[39mNone\u001b[39;00m:\n\u001b[1;32m-> 4711\u001b[0m         obj \u001b[39m=\u001b[39m obj\u001b[39m.\u001b[39;49m_drop_axis(labels, axis, level\u001b[39m=\u001b[39;49mlevel, errors\u001b[39m=\u001b[39;49merrors)\n\u001b[0;32m   4713\u001b[0m \u001b[39mif\u001b[39;00m inplace:\n\u001b[0;32m   4714\u001b[0m     \u001b[39mself\u001b[39m\u001b[39m.\u001b[39m_update_inplace(obj)\n",
      "File \u001b[1;32mc:\\Users\\Lyann Thit Nyi Nyi\\AppData\\Local\\Programs\\Python\\Python311\\Lib\\site-packages\\pandas\\core\\generic.py:4753\u001b[0m, in \u001b[0;36mNDFrame._drop_axis\u001b[1;34m(self, labels, axis, level, errors, only_slice)\u001b[0m\n\u001b[0;32m   4751\u001b[0m         new_axis \u001b[39m=\u001b[39m axis\u001b[39m.\u001b[39mdrop(labels, level\u001b[39m=\u001b[39mlevel, errors\u001b[39m=\u001b[39merrors)\n\u001b[0;32m   4752\u001b[0m     \u001b[39melse\u001b[39;00m:\n\u001b[1;32m-> 4753\u001b[0m         new_axis \u001b[39m=\u001b[39m axis\u001b[39m.\u001b[39;49mdrop(labels, errors\u001b[39m=\u001b[39;49merrors)\n\u001b[0;32m   4754\u001b[0m     indexer \u001b[39m=\u001b[39m axis\u001b[39m.\u001b[39mget_indexer(new_axis)\n\u001b[0;32m   4756\u001b[0m \u001b[39m# Case for non-unique axis\u001b[39;00m\n\u001b[0;32m   4757\u001b[0m \u001b[39melse\u001b[39;00m:\n",
      "File \u001b[1;32mc:\\Users\\Lyann Thit Nyi Nyi\\AppData\\Local\\Programs\\Python\\Python311\\Lib\\site-packages\\pandas\\core\\indexes\\base.py:6992\u001b[0m, in \u001b[0;36mIndex.drop\u001b[1;34m(self, labels, errors)\u001b[0m\n\u001b[0;32m   6990\u001b[0m \u001b[39mif\u001b[39;00m mask\u001b[39m.\u001b[39many():\n\u001b[0;32m   6991\u001b[0m     \u001b[39mif\u001b[39;00m errors \u001b[39m!=\u001b[39m \u001b[39m\"\u001b[39m\u001b[39mignore\u001b[39m\u001b[39m\"\u001b[39m:\n\u001b[1;32m-> 6992\u001b[0m         \u001b[39mraise\u001b[39;00m \u001b[39mKeyError\u001b[39;00m(\u001b[39mf\u001b[39m\u001b[39m\"\u001b[39m\u001b[39m{\u001b[39;00mlabels[mask]\u001b[39m.\u001b[39mtolist()\u001b[39m}\u001b[39;00m\u001b[39m not found in axis\u001b[39m\u001b[39m\"\u001b[39m)\n\u001b[0;32m   6993\u001b[0m     indexer \u001b[39m=\u001b[39m indexer[\u001b[39m~\u001b[39mmask]\n\u001b[0;32m   6994\u001b[0m \u001b[39mreturn\u001b[39;00m \u001b[39mself\u001b[39m\u001b[39m.\u001b[39mdelete(indexer)\n",
      "\u001b[1;31mKeyError\u001b[0m: \"['purchaseMethod'] not found in axis\""
     ]
    }
   ],
   "source": [
    "\n",
    "# Extract gender information from the 'customer' column\n",
    "salesdf['gender'] = salesdf['customer'].apply(lambda x: x.get('gender'))\n",
    "\n",
    "# Create a pivot table to count the occurrences of each purchase method by gender\n",
    "purchase_method_by_gender = pd.crosstab(salesdf['gender'], salesdf['purchaseMethod'])\n",
    "\n",
    "# Reset the index to have gender as a column, not an index\n",
    "purchase_method_by_gender = purchase_method_by_gender.reset_index()\n",
    "\n",
    "# Drop the 'purchaseMethod' columns\n",
    "purchase_method_by_gender = purchase_method_by_gender.drop(['Online', 'In-Store', 'Phone'], axis=1)\n",
    "\n",
    "print(purchase_method_by_gender)"
   ]
  }
 ],
 "metadata": {
  "kernelspec": {
   "display_name": "Python 3",
   "language": "python",
   "name": "python3"
  },
  "language_info": {
   "codemirror_mode": {
    "name": "ipython",
    "version": 3
   },
   "file_extension": ".py",
   "mimetype": "text/x-python",
   "name": "python",
   "nbconvert_exporter": "python",
   "pygments_lexer": "ipython3",
   "version": "3.11.1"
  }
 },
 "nbformat": 4,
 "nbformat_minor": 2
}
