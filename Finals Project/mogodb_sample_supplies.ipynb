{
 "cells": [
  {
   "cell_type": "markdown",
   "metadata": {},
   "source": [
    "## BDA Final Project\n",
    "I cook the JSON."
   ]
  },
  {
   "cell_type": "code",
   "execution_count": 106,
   "metadata": {},
   "outputs": [],
   "source": [
    "# ⣿⣿⣿⣿⣿⣿⣿⣿⣿⣿⣿⣿⡿⠿⠿⠿⠿⢿⣿⣿⣿⣿⣿⣿⣿⣿⣿⣿⣿⣿⣿⣿\n",
    "# ⣿⣿⣿⣿⣿⣿⣿⣿⠟⠋⠁⠀⠀⠀⠀⠀⠀⠀⠀⠉⠻⣿⣿⣿⣿⣿⣿⣿⣿⣿⣿⣿\n",
    "# ⣿⣿⣿⣿⣿⣿⣿⠁⠀⠀⠀⠀⠀⠀⠀⠀⠀⠀⠀⠀⠀⢺⣿⣿⣿⣿⣿⣿⣿⣿⣿⣿\n",
    "# ⣿⣿⣿⣿⣿⣿⣿⠀⠀⠀⠀⠀⠀⠀⠀⠀⠀⠀⠀⠀⠆⠜⣿⣿⣿⣿⣿⣿⣿⣿⣿⣿\n",
    "# ⣿⣿⣿⣿⠿⠿⠛⠀⠀⠀⠀⠀⠀⠀⠀⠀⠀⠀⠀⠀⠀⠀⠀⠀⠀⠉⠻⣿⣿⣿⣿⣿\n",
    "# ⣿⣿⡏⠁⠀⠀⠀⠀⠀⣀⣠⣤⣤⣶⣶⣶⣶⣶⣦⣤⡄⠀⠀⠀⠀⢀⣴⣿⣿⣿⣿⣿\n",
    "# ⣿⣿⣷⣄⠀⠀⠀⢠⣾⣿⣿⣿⣿⣿⣿⣿⣿⣿⣿⢿⡧⠇⢀⣤⣶⣿⣿⣿⣿⣿⣿⣿\n",
    "# ⣿⣿⣿⣿⣿⣿⣾⣮⣭⣿⡻⣽⣒⠀⣤⣜⣭⠐⢐⣒⠢⢰⢸⣿⣿⣿⣿⣿⣿⣿⣿⣿\n",
    "# ⣿⣿⣿⣿⣿⣿⣿⣏⣿⣿⣿⣿⣿⣿⡟⣾⣿⠂⢈⢿⣷⣞⣸⣿⣿⣿⣿⣿⣿⣿⣿⣿\n",
    "# ⣿⣿⣿⣿⣿⣿⣿⣿⣽⣿⣿⣷⣶⣾⡿⠿⣿⠗⠈⢻⣿⣿⣿⣿⣿⣿⣿⣿⣿⣿⣿⣿\n",
    "# ⣿⣿⣿⣿⣿⣿⣿⣿⣿⣿⣿⣿⡿⠻⠋⠉⠑⠀⠀⢘⢻⣿⣿⣿⣿⣿⣿⣿⣿⣿⣿⣿\n",
    "# ⣿⣿⣿⣿⣿⣿⣿⡿⠟⢹⣿⣿⡇⢀⣶⣶⠴⠶⠀⠀⢽⣿⣿⣿⣿⣿⣿⣿⣿⣿⣿⣿\n",
    "# ⣿⣿⣿⣿⣿⣿⡿⠀⠀⢸⣿⣿⠀⠀⠣⠀⠀⠀⠀⠀⡟⢿⣿⣿⣿⣿⣿⣿⣿⣿⣿⣿\n",
    "# ⣿⣿⣿⡿⠟⠋⠀⠀⠀⠀⠹⣿⣧⣀⠀⠀⠀⠀⡀⣴⠁⢘⡙⢿⣿⣿⣿⣿⣿⣿⣿⣿\n",
    "# ⠉⠉⠁⠀⠀⠀⠀⠀⠀⠀⠀⠈⠙⢿⠗⠂⠄⠀⣴⡟⠀⠀⡃⠀⠉⠉⠟⡿⣿⣿⣿⣿\n",
    "# ⠀⠀⠀⠀⠀⠀⠀⠀⠀⠀⠀⠀⠀⠀⢷⠾⠛⠂⢹⠀⠀⠀⢡⠀⠀⠀⠀⠀⠙⠛⠿⢿"
   ]
  },
  {
   "cell_type": "code",
   "execution_count": 107,
   "metadata": {},
   "outputs": [],
   "source": [
    "import pandas as pd\n",
    "\n",
    "# Load the JSON file into a Pandas DataFrame\n",
    "salesdf = pd.read_json('mongodb_sample_supplies.json', lines=True)"
   ]
  },
  {
   "cell_type": "code",
   "execution_count": 108,
   "metadata": {},
   "outputs": [
    {
     "data": {
      "text/html": [
       "<div>\n",
       "<style scoped>\n",
       "    .dataframe tbody tr th:only-of-type {\n",
       "        vertical-align: middle;\n",
       "    }\n",
       "\n",
       "    .dataframe tbody tr th {\n",
       "        vertical-align: top;\n",
       "    }\n",
       "\n",
       "    .dataframe thead th {\n",
       "        text-align: right;\n",
       "    }\n",
       "</style>\n",
       "<table border=\"1\" class=\"dataframe\">\n",
       "  <thead>\n",
       "    <tr style=\"text-align: right;\">\n",
       "      <th></th>\n",
       "      <th>_id</th>\n",
       "      <th>saleDate</th>\n",
       "      <th>items</th>\n",
       "      <th>storeLocation</th>\n",
       "      <th>customer</th>\n",
       "      <th>couponUsed</th>\n",
       "      <th>purchaseMethod</th>\n",
       "    </tr>\n",
       "  </thead>\n",
       "  <tbody>\n",
       "    <tr>\n",
       "      <th>0</th>\n",
       "      <td>{'$oid': '5bd761dcae323e45a93ccff7'}</td>\n",
       "      <td>{'$date': '2017-12-08T21:40:34.527Z'}</td>\n",
       "      <td>[{'name': 'laptop', 'tags': ['electronics', 's...</td>\n",
       "      <td>Denver</td>\n",
       "      <td>{'gender': 'M', 'age': 28, 'email': 'fapra@rut...</td>\n",
       "      <td>False</td>\n",
       "      <td>Phone</td>\n",
       "    </tr>\n",
       "    <tr>\n",
       "      <th>1</th>\n",
       "      <td>{'$oid': '5bd761dcae323e45a93cd000'}</td>\n",
       "      <td>{'$date': '2015-05-15T13:43:24.561Z'}</td>\n",
       "      <td>[{'name': 'printer paper', 'tags': ['office', ...</td>\n",
       "      <td>London</td>\n",
       "      <td>{'gender': 'F', 'age': 27, 'email': 'zu@bainku...</td>\n",
       "      <td>False</td>\n",
       "      <td>Online</td>\n",
       "    </tr>\n",
       "    <tr>\n",
       "      <th>2</th>\n",
       "      <td>{'$oid': '5bd761dcae323e45a93ccfeb'}</td>\n",
       "      <td>{'$date': '2015-02-23T09:53:59.343Z'}</td>\n",
       "      <td>[{'name': 'binder', 'tags': ['school', 'genera...</td>\n",
       "      <td>Seattle</td>\n",
       "      <td>{'gender': 'F', 'age': 45, 'email': 'vatires@t...</td>\n",
       "      <td>False</td>\n",
       "      <td>In store</td>\n",
       "    </tr>\n",
       "    <tr>\n",
       "      <th>3</th>\n",
       "      <td>{'$oid': '5bd761dcae323e45a93ccfe8'}</td>\n",
       "      <td>{'$date': '2015-03-23T21:06:49.506Z'}</td>\n",
       "      <td>[{'name': 'printer paper', 'tags': ['office', ...</td>\n",
       "      <td>Denver</td>\n",
       "      <td>{'gender': 'M', 'age': 42, 'email': 'cauho@wit...</td>\n",
       "      <td>True</td>\n",
       "      <td>Online</td>\n",
       "    </tr>\n",
       "    <tr>\n",
       "      <th>4</th>\n",
       "      <td>{'$oid': '5bd761dcae323e45a93ccfe9'}</td>\n",
       "      <td>{'$date': '2015-08-25T10:01:02.918Z'}</td>\n",
       "      <td>[{'name': 'envelopes', 'tags': ['stationary', ...</td>\n",
       "      <td>Seattle</td>\n",
       "      <td>{'gender': 'M', 'age': 50, 'email': 'keecade@h...</td>\n",
       "      <td>False</td>\n",
       "      <td>Phone</td>\n",
       "    </tr>\n",
       "  </tbody>\n",
       "</table>\n",
       "</div>"
      ],
      "text/plain": [
       "                                    _id  \\\n",
       "0  {'$oid': '5bd761dcae323e45a93ccff7'}   \n",
       "1  {'$oid': '5bd761dcae323e45a93cd000'}   \n",
       "2  {'$oid': '5bd761dcae323e45a93ccfeb'}   \n",
       "3  {'$oid': '5bd761dcae323e45a93ccfe8'}   \n",
       "4  {'$oid': '5bd761dcae323e45a93ccfe9'}   \n",
       "\n",
       "                                saleDate  \\\n",
       "0  {'$date': '2017-12-08T21:40:34.527Z'}   \n",
       "1  {'$date': '2015-05-15T13:43:24.561Z'}   \n",
       "2  {'$date': '2015-02-23T09:53:59.343Z'}   \n",
       "3  {'$date': '2015-03-23T21:06:49.506Z'}   \n",
       "4  {'$date': '2015-08-25T10:01:02.918Z'}   \n",
       "\n",
       "                                               items storeLocation  \\\n",
       "0  [{'name': 'laptop', 'tags': ['electronics', 's...        Denver   \n",
       "1  [{'name': 'printer paper', 'tags': ['office', ...        London   \n",
       "2  [{'name': 'binder', 'tags': ['school', 'genera...       Seattle   \n",
       "3  [{'name': 'printer paper', 'tags': ['office', ...        Denver   \n",
       "4  [{'name': 'envelopes', 'tags': ['stationary', ...       Seattle   \n",
       "\n",
       "                                            customer  couponUsed  \\\n",
       "0  {'gender': 'M', 'age': 28, 'email': 'fapra@rut...       False   \n",
       "1  {'gender': 'F', 'age': 27, 'email': 'zu@bainku...       False   \n",
       "2  {'gender': 'F', 'age': 45, 'email': 'vatires@t...       False   \n",
       "3  {'gender': 'M', 'age': 42, 'email': 'cauho@wit...        True   \n",
       "4  {'gender': 'M', 'age': 50, 'email': 'keecade@h...       False   \n",
       "\n",
       "  purchaseMethod  \n",
       "0          Phone  \n",
       "1         Online  \n",
       "2       In store  \n",
       "3         Online  \n",
       "4          Phone  "
      ]
     },
     "execution_count": 108,
     "metadata": {},
     "output_type": "execute_result"
    }
   ],
   "source": [
    "salesdf.head()"
   ]
  },
  {
   "cell_type": "code",
   "execution_count": 109,
   "metadata": {},
   "outputs": [
    {
     "name": "stdout",
     "output_type": "stream",
     "text": [
      "    Product Name  Count\n",
      "0        notepad   6872\n",
      "1         binder   4676\n",
      "2           pens   4559\n",
      "3      envelopes   4505\n",
      "4       backpack   2309\n",
      "5         laptop   2271\n",
      "6  printer paper   2246\n"
     ]
    }
   ],
   "source": [
    "#Flatten the 'items' column into individual rows\n",
    "salesdf = salesdf.explode('items')\n"
   ]
  },
  {
   "cell_type": "code",
   "execution_count": 115,
   "metadata": {},
   "outputs": [
    {
     "data": {
      "text/html": [
       "<div>\n",
       "<style scoped>\n",
       "    .dataframe tbody tr th:only-of-type {\n",
       "        vertical-align: middle;\n",
       "    }\n",
       "\n",
       "    .dataframe tbody tr th {\n",
       "        vertical-align: top;\n",
       "    }\n",
       "\n",
       "    .dataframe thead th {\n",
       "        text-align: right;\n",
       "    }\n",
       "</style>\n",
       "<table border=\"1\" class=\"dataframe\">\n",
       "  <thead>\n",
       "    <tr style=\"text-align: right;\">\n",
       "      <th></th>\n",
       "      <th>_id</th>\n",
       "      <th>saleDate</th>\n",
       "      <th>items</th>\n",
       "      <th>storeLocation</th>\n",
       "      <th>customer</th>\n",
       "      <th>couponUsed</th>\n",
       "      <th>purchaseMethod</th>\n",
       "      <th>product_name</th>\n",
       "      <th>sales</th>\n",
       "      <th>gender</th>\n",
       "    </tr>\n",
       "  </thead>\n",
       "  <tbody>\n",
       "    <tr>\n",
       "      <th>0</th>\n",
       "      <td>{'$oid': '5bd761dcae323e45a93ccff7'}</td>\n",
       "      <td>{'$date': '2017-12-08T21:40:34.527Z'}</td>\n",
       "      <td>{'name': 'laptop', 'tags': ['electronics', 'sc...</td>\n",
       "      <td>Denver</td>\n",
       "      <td>{'gender': 'M', 'age': 28, 'email': 'fapra@rut...</td>\n",
       "      <td>False</td>\n",
       "      <td>Phone</td>\n",
       "      <td>laptop</td>\n",
       "      <td>1613.68</td>\n",
       "      <td>M</td>\n",
       "    </tr>\n",
       "    <tr>\n",
       "      <th>0</th>\n",
       "      <td>{'$oid': '5bd761dcae323e45a93ccff7'}</td>\n",
       "      <td>{'$date': '2017-12-08T21:40:34.527Z'}</td>\n",
       "      <td>{'name': 'envelopes', 'tags': ['stationary', '...</td>\n",
       "      <td>Denver</td>\n",
       "      <td>{'gender': 'M', 'age': 28, 'email': 'fapra@rut...</td>\n",
       "      <td>False</td>\n",
       "      <td>Phone</td>\n",
       "      <td>envelopes</td>\n",
       "      <td>74.41</td>\n",
       "      <td>M</td>\n",
       "    </tr>\n",
       "    <tr>\n",
       "      <th>0</th>\n",
       "      <td>{'$oid': '5bd761dcae323e45a93ccff7'}</td>\n",
       "      <td>{'$date': '2017-12-08T21:40:34.527Z'}</td>\n",
       "      <td>{'name': 'printer paper', 'tags': ['office', '...</td>\n",
       "      <td>Denver</td>\n",
       "      <td>{'gender': 'M', 'age': 28, 'email': 'fapra@rut...</td>\n",
       "      <td>False</td>\n",
       "      <td>Phone</td>\n",
       "      <td>printer paper</td>\n",
       "      <td>383.70</td>\n",
       "      <td>M</td>\n",
       "    </tr>\n",
       "    <tr>\n",
       "      <th>1</th>\n",
       "      <td>{'$oid': '5bd761dcae323e45a93cd000'}</td>\n",
       "      <td>{'$date': '2015-05-15T13:43:24.561Z'}</td>\n",
       "      <td>{'name': 'printer paper', 'tags': ['office', '...</td>\n",
       "      <td>London</td>\n",
       "      <td>{'gender': 'F', 'age': 27, 'email': 'zu@bainku...</td>\n",
       "      <td>False</td>\n",
       "      <td>Online</td>\n",
       "      <td>printer paper</td>\n",
       "      <td>431.55</td>\n",
       "      <td>F</td>\n",
       "    </tr>\n",
       "    <tr>\n",
       "      <th>1</th>\n",
       "      <td>{'$oid': '5bd761dcae323e45a93cd000'}</td>\n",
       "      <td>{'$date': '2015-05-15T13:43:24.561Z'}</td>\n",
       "      <td>{'name': 'notepad', 'tags': ['office', 'writin...</td>\n",
       "      <td>London</td>\n",
       "      <td>{'gender': 'F', 'age': 27, 'email': 'zu@bainku...</td>\n",
       "      <td>False</td>\n",
       "      <td>Online</td>\n",
       "      <td>notepad</td>\n",
       "      <td>141.08</td>\n",
       "      <td>F</td>\n",
       "    </tr>\n",
       "  </tbody>\n",
       "</table>\n",
       "</div>"
      ],
      "text/plain": [
       "                                    _id  \\\n",
       "0  {'$oid': '5bd761dcae323e45a93ccff7'}   \n",
       "0  {'$oid': '5bd761dcae323e45a93ccff7'}   \n",
       "0  {'$oid': '5bd761dcae323e45a93ccff7'}   \n",
       "1  {'$oid': '5bd761dcae323e45a93cd000'}   \n",
       "1  {'$oid': '5bd761dcae323e45a93cd000'}   \n",
       "\n",
       "                                saleDate  \\\n",
       "0  {'$date': '2017-12-08T21:40:34.527Z'}   \n",
       "0  {'$date': '2017-12-08T21:40:34.527Z'}   \n",
       "0  {'$date': '2017-12-08T21:40:34.527Z'}   \n",
       "1  {'$date': '2015-05-15T13:43:24.561Z'}   \n",
       "1  {'$date': '2015-05-15T13:43:24.561Z'}   \n",
       "\n",
       "                                               items storeLocation  \\\n",
       "0  {'name': 'laptop', 'tags': ['electronics', 'sc...        Denver   \n",
       "0  {'name': 'envelopes', 'tags': ['stationary', '...        Denver   \n",
       "0  {'name': 'printer paper', 'tags': ['office', '...        Denver   \n",
       "1  {'name': 'printer paper', 'tags': ['office', '...        London   \n",
       "1  {'name': 'notepad', 'tags': ['office', 'writin...        London   \n",
       "\n",
       "                                            customer  couponUsed  \\\n",
       "0  {'gender': 'M', 'age': 28, 'email': 'fapra@rut...       False   \n",
       "0  {'gender': 'M', 'age': 28, 'email': 'fapra@rut...       False   \n",
       "0  {'gender': 'M', 'age': 28, 'email': 'fapra@rut...       False   \n",
       "1  {'gender': 'F', 'age': 27, 'email': 'zu@bainku...       False   \n",
       "1  {'gender': 'F', 'age': 27, 'email': 'zu@bainku...       False   \n",
       "\n",
       "  purchaseMethod   product_name    sales gender  \n",
       "0          Phone         laptop  1613.68      M  \n",
       "0          Phone      envelopes    74.41      M  \n",
       "0          Phone  printer paper   383.70      M  \n",
       "1         Online  printer paper   431.55      F  \n",
       "1         Online        notepad   141.08      F  "
      ]
     },
     "execution_count": 115,
     "metadata": {},
     "output_type": "execute_result"
    }
   ],
   "source": [
    "salesdf.head()"
   ]
  },
  {
   "cell_type": "code",
   "execution_count": null,
   "metadata": {},
   "outputs": [],
   "source": [
    "\n",
    "# Get the product name from 'items' dictionary\n",
    "salesdf['product_name'] = salesdf['items'].apply(lambda x: x['name'])\n",
    "\n",
    "# Group by product name and count the occurrences\n",
    "top_products = salesdf['product_name'].value_counts().nlargest(10).reset_index()\n",
    "\n",
    "# Rename the columns for clarity\n",
    "top_products.columns = ['Product Name', 'Count']\n",
    "\n",
    "print(top_products)\n"
   ]
  },
  {
   "cell_type": "code",
   "execution_count": 110,
   "metadata": {},
   "outputs": [
    {
     "name": "stdout",
     "output_type": "stream",
     "text": [
      "   storeLocation     items       sales  rank\n",
      "0         Austin  backpack   115217.59   2.0\n",
      "3         Austin    laptop  1018494.05   1.0\n",
      "5         Austin      pens    74622.52   3.0\n",
      "7         Denver  backpack   245679.34   2.0\n",
      "10        Denver    laptop  1961659.25   1.0\n",
      "12        Denver      pens   185008.39   3.0\n",
      "14        London  backpack   144529.14   2.0\n",
      "17        London    laptop  1073098.72   1.0\n",
      "19        London      pens    92602.30   3.0\n",
      "21      New York  backpack    82563.14   2.0\n",
      "24      New York    laptop   694613.32   1.0\n",
      "26      New York      pens    64029.90   3.0\n",
      "28     San Diego  backpack    50997.42   2.0\n",
      "31     San Diego    laptop   462973.58   1.0\n",
      "33     San Diego      pens    42134.55   3.0\n",
      "35       Seattle  backpack   178387.47   2.0\n",
      "38       Seattle    laptop  1565138.15   1.0\n",
      "40       Seattle      pens   123445.61   3.0\n"
     ]
    }
   ],
   "source": [
    "# Calculate the sales (quantity x price) for each product\n",
    "salesdf['sales'] = salesdf['items'].apply(lambda x: x['quantity'] * float(x['price']['$numberDecimal']))\n",
    "\n",
    "# Group by store location and product name, and sum the sales\n",
    "top_3_products_by_store = salesdf.groupby(['storeLocation', salesdf['items'].apply(lambda x: x['name'])])['sales'].sum().reset_index()\n",
    "\n",
    "# Rank the products by sales for each store location\n",
    "top_3_products_by_store['rank'] = top_3_products_by_store.groupby('storeLocation')['sales'].rank(ascending=False, method='min')\n",
    "\n",
    "# Filter the top 3 products for each store location\n",
    "top_3_products_by_store = top_3_products_by_store[top_3_products_by_store['rank'] <= 3]\n",
    "\n",
    "print(top_3_products_by_store)\n"
   ]
  },
  {
   "cell_type": "code",
   "execution_count": 111,
   "metadata": {},
   "outputs": [
    {
     "name": "stdout",
     "output_type": "stream",
     "text": [
      "  storeLocation       sales  rank\n",
      "1        Denver  2921009.92   1.0\n",
      "5       Seattle  2255947.69   2.0\n",
      "2        London  1583066.79   3.0\n",
      "0        Austin  1445603.11   4.0\n",
      "3      New York  1016059.59   5.0\n",
      "4     San Diego   672885.17   6.0\n"
     ]
    }
   ],
   "source": [
    "# Define a custom lambda function to calculate sales\n",
    "def calculate_sales(item):\n",
    "    price = float(item['price']['$numberDecimal'])\n",
    "    return item['quantity'] * price\n",
    "\n",
    "# Apply the custom lambda function to calculate sales\n",
    "salesdf['sales'] = salesdf['items'].apply(calculate_sales)\n",
    "\n",
    "# Group by store location and sum the sales for each location\n",
    "store_rankings = salesdf.groupby('storeLocation')['sales'].sum().reset_index()\n",
    "\n",
    "# Rank the store locations by sales\n",
    "store_rankings['rank'] = store_rankings['sales'].rank(ascending=False, method='min')\n",
    "\n",
    "# Sort the store rankings by rank\n",
    "store_rankings = store_rankings.sort_values(by='rank')\n",
    "\n",
    "print(store_rankings)\n"
   ]
  },
  {
   "cell_type": "code",
   "execution_count": 112,
   "metadata": {},
   "outputs": [
    {
     "name": "stdout",
     "output_type": "stream",
     "text": [
      "Index(['_id', 'saleDate', 'items', 'storeLocation', 'customer', 'couponUsed',\n",
      "       'purchaseMethod', 'product_name', 'sales'],\n",
      "      dtype='object')\n"
     ]
    }
   ],
   "source": [
    "print(salesdf.columns)"
   ]
  },
  {
   "cell_type": "code",
   "execution_count": 113,
   "metadata": {},
   "outputs": [
    {
     "name": "stdout",
     "output_type": "stream",
     "text": [
      "purchaseMethod  In store  Online\n",
      "Gender                          \n",
      "F                   8062    4270\n",
      "M                   7571    4314\n"
     ]
    }
   ],
   "source": [
    "# Extract gender information from the 'customer' column\n",
    "salesdf['gender'] = salesdf['customer'].apply(lambda x: x.get('gender'))\n",
    "\n",
    "# Create a pivot table to count the occurrences of each purchase method by gender\n",
    "purchase_method_by_gender = pd.crosstab(salesdf['gender'], salesdf['purchaseMethod'])\n",
    "\n",
    "# Remove the index name\n",
    "purchase_method_by_gender.index.name = \"Gender\"\n",
    "\n",
    "# Drop the 'Phone' column\n",
    "purchase_method_by_gender = purchase_method_by_gender.drop(columns='Phone')\n",
    "\n",
    "print(purchase_method_by_gender)"
   ]
  },
  {
   "cell_type": "code",
   "execution_count": 114,
   "metadata": {},
   "outputs": [
    {
     "name": "stdout",
     "output_type": "stream",
     "text": [
      "purchaseMethod  In store  Online\n",
      "Gender (M/F)                    \n",
      "Female              8062    4270\n",
      "Male                7571    4314\n"
     ]
    }
   ],
   "source": [
    "# Replace 'F' with 'Female' and 'M' with 'Male' in the index (gender labels)\n",
    "purchase_method_by_gender = purchase_method_by_gender.rename(index={'F': 'Female', 'M': 'Male'})\n",
    "purchase_method_by_gender.index.name = 'Gender (M/F)'\n",
    "print(purchase_method_by_gender)\n"
   ]
  }
 ],
 "metadata": {
  "kernelspec": {
   "display_name": "Python 3",
   "language": "python",
   "name": "python3"
  },
  "language_info": {
   "codemirror_mode": {
    "name": "ipython",
    "version": 3
   },
   "file_extension": ".py",
   "mimetype": "text/x-python",
   "name": "python",
   "nbconvert_exporter": "python",
   "pygments_lexer": "ipython3",
   "version": "3.11.1"
  }
 },
 "nbformat": 4,
 "nbformat_minor": 2
}
